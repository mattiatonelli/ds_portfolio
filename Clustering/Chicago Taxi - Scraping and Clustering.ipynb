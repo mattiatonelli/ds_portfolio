{
 "cells": [
  {
   "cell_type": "markdown",
   "metadata": {
    "toc": true
   },
   "source": [
    "<h1>Table of Contents<span class=\"tocSkip\"></span></h1>\n",
    "<div class=\"toc\"><ul class=\"toc-item\"><li><span><a href=\"#Acknowledgments\" data-toc-modified-id=\"Acknowledgments-1\"><span class=\"toc-item-num\">1&nbsp;&nbsp;</span>Acknowledgments</a></span></li><li><span><a href=\"#Installations,-Imports-and-Settings\" data-toc-modified-id=\"Installations,-Imports-and-Settings-2\"><span class=\"toc-item-num\">2&nbsp;&nbsp;</span>Installations, Imports and Settings</a></span><ul class=\"toc-item\"><li><span><a href=\"#Installation\" data-toc-modified-id=\"Installation-2.1\"><span class=\"toc-item-num\">2.1&nbsp;&nbsp;</span>Installation</a></span></li><li><span><a href=\"#Imports-and-Settings\" data-toc-modified-id=\"Imports-and-Settings-2.2\"><span class=\"toc-item-num\">2.2&nbsp;&nbsp;</span>Imports and Settings</a></span></li></ul></li><li><span><a href=\"#Scraping\" data-toc-modified-id=\"Scraping-3\"><span class=\"toc-item-num\">3&nbsp;&nbsp;</span>Scraping</a></span><ul class=\"toc-item\"><li><span><a href=\"#Page-Source-Scraping\" data-toc-modified-id=\"Page-Source-Scraping-3.1\"><span class=\"toc-item-num\">3.1&nbsp;&nbsp;</span>Page Source Scraping</a></span></li><li><span><a href=\"#Attraction-Parsing\" data-toc-modified-id=\"Attraction-Parsing-3.2\"><span class=\"toc-item-num\">3.2&nbsp;&nbsp;</span>Attraction Parsing</a></span></li><li><span><a href=\"#Attraction's-Information-Scraping\" data-toc-modified-id=\"Attraction's-Information-Scraping-3.3\"><span class=\"toc-item-num\">3.3&nbsp;&nbsp;</span>Attraction's Information Scraping</a></span></li></ul></li><li><span><a href=\"#Data-Collection-and-Preprocessing\" data-toc-modified-id=\"Data-Collection-and-Preprocessing-4\"><span class=\"toc-item-num\">4&nbsp;&nbsp;</span>Data Collection and Preprocessing</a></span><ul class=\"toc-item\"><li><span><a href=\"#Collection\" data-toc-modified-id=\"Collection-4.1\"><span class=\"toc-item-num\">4.1&nbsp;&nbsp;</span>Collection</a></span></li><li><span><a href=\"#PreProcessing\" data-toc-modified-id=\"PreProcessing-4.2\"><span class=\"toc-item-num\">4.2&nbsp;&nbsp;</span>PreProcessing</a></span><ul class=\"toc-item\"><li><span><a href=\"#Duplicates\" data-toc-modified-id=\"Duplicates-4.2.1\"><span class=\"toc-item-num\">4.2.1&nbsp;&nbsp;</span>Duplicates</a></span></li><li><span><a href=\"#Outliers\" data-toc-modified-id=\"Outliers-4.2.2\"><span class=\"toc-item-num\">4.2.2&nbsp;&nbsp;</span>Outliers</a></span></li><li><span><a href=\"#Feature-Selection\" data-toc-modified-id=\"Feature-Selection-4.2.3\"><span class=\"toc-item-num\">4.2.3&nbsp;&nbsp;</span>Feature Selection</a></span></li><li><span><a href=\"#Missing-Values\" data-toc-modified-id=\"Missing-Values-4.2.4\"><span class=\"toc-item-num\">4.2.4&nbsp;&nbsp;</span>Missing Values</a></span></li></ul></li></ul></li><li><span><a href=\"#Clustering\" data-toc-modified-id=\"Clustering-5\"><span class=\"toc-item-num\">5&nbsp;&nbsp;</span>Clustering</a></span><ul class=\"toc-item\"><li><span><a href=\"#DBSCAN-in-short\" data-toc-modified-id=\"DBSCAN-in-short-5.1\"><span class=\"toc-item-num\">5.1&nbsp;&nbsp;</span><code>DBSCAN</code> in short</a></span></li><li><span><a href=\"#Parameter-Setting\" data-toc-modified-id=\"Parameter-Setting-5.2\"><span class=\"toc-item-num\">5.2&nbsp;&nbsp;</span>Parameter Setting</a></span></li><li><span><a href=\"#Model-Training\" data-toc-modified-id=\"Model-Training-5.3\"><span class=\"toc-item-num\">5.3&nbsp;&nbsp;</span>Model Training</a></span></li><li><span><a href=\"#Model-Evaluation\" data-toc-modified-id=\"Model-Evaluation-5.4\"><span class=\"toc-item-num\">5.4&nbsp;&nbsp;</span>Model Evaluation</a></span></li></ul></li><li><span><a href=\"#Conclusions\" data-toc-modified-id=\"Conclusions-6\"><span class=\"toc-item-num\">6&nbsp;&nbsp;</span>Conclusions</a></span></li></ul></div>"
   ]
  },
  {
   "cell_type": "markdown",
   "metadata": {},
   "source": [
    "# Chicago's Most Visited Attractions"
   ]
  },
  {
   "cell_type": "markdown",
   "metadata": {},
   "source": [
    "The aim of this notebook is to perform a ***clustering*** exercise. \n",
    "\n",
    "Specifically, we will pit the geospatial clusters detected by `DBSCAN` based on taxi trip destinations within the Chicago against the city's most visited attractions, according to TripAdvisor."
   ]
  },
  {
   "cell_type": "markdown",
   "metadata": {},
   "source": [
    "The major data science concepts touched upon in this notebook will be:\n",
    "\n",
    "+ Web Scraping;\n",
    "+ Data Collection and Preprocessing;\n",
    "+ Clustering;\n",
    "+ Geospatial Data.\n"
   ]
  },
  {
   "cell_type": "markdown",
   "metadata": {},
   "source": [
    "## Acknowledgments"
   ]
  },
  {
   "cell_type": "markdown",
   "metadata": {},
   "source": [
    "The ideas bolstering the clustering section are largely based on Professor [Oriol Pujol](http://www.maia.ub.es/~oriol/)'s lecture on Density-based clustering. "
   ]
  },
  {
   "cell_type": "markdown",
   "metadata": {},
   "source": [
    "## Installations, Imports and Settings"
   ]
  },
  {
   "cell_type": "markdown",
   "metadata": {},
   "source": [
    "### Installation"
   ]
  },
  {
   "cell_type": "markdown",
   "metadata": {},
   "source": [
    "Besides the \"classic\" libraries, the below libraries are required in order to be able to run this notebook:"
   ]
  },
  {
   "cell_type": "markdown",
   "metadata": {},
   "source": [
    "`pip install gmaps` (mandatory)\n",
    "\n",
    "a Jupyter plugin for embedding Google maps in Jupyter notebooks. It is designed to help visualize and interact with geographical data.\n",
    "\n",
    "`pip install sodapy` (optional if loading the data directly from the `.csv`)\n",
    "\n",
    "a Python client for the Socrata Open Data API."
   ]
  },
  {
   "cell_type": "markdown",
   "metadata": {},
   "source": [
    "Further, the scraping section requires a ***chromedriver.exe*** application. The GitHub repository has one located in folder \"ChromeDriver\", matching `Chrome version 84`.\n",
    "\n",
    "In order to work, it is fundamental that the application release and Chrome's version match:\n",
    "\n",
    "- To check your Chrome's version, consult this guide [here](https://help.zenplanner.com/hc/en-us/articles/204253654-How-to-Find-Your-Internet-Browser-Version-Number-Google-Chrome).\n",
    "\n",
    "- If you need to utilize another ***chromedriver.exe*** release, the required application can be downloaded from [here](https://chromedriver.chromium.org/downloads). "
   ]
  },
  {
   "cell_type": "markdown",
   "metadata": {},
   "source": [
    "### Imports and Settings"
   ]
  },
  {
   "cell_type": "code",
   "execution_count": 1,
   "metadata": {
    "ExecuteTime": {
     "end_time": "2020-07-27T09:41:04.575462Z",
     "start_time": "2020-07-27T09:41:03.345623Z"
    }
   },
   "outputs": [],
   "source": [
    "# general\n",
    "import numpy as np\n",
    "import pandas as pd\n",
    "from random import randint\n",
    "import pickle\n",
    "import json\n",
    "\n",
    "# scraping\n",
    "from scraping import tripadvisor_scraper, landmarks_parser, info_scraper\n",
    "\n",
    "# data collection\n",
    "from sodapy import Socrata\n",
    "\n",
    "# clustering\n",
    "from sklearn.cluster import DBSCAN\n",
    "\n",
    "# geospatial plotting\n",
    "import gmaps\n",
    "\n",
    "# settings modification\n",
    "import warnings\n",
    "warnings.filterwarnings('ignore')\n",
    "\n",
    "# autoreload changes in custom modules\n",
    "%load_ext autoreload\n",
    "%autoreload 2\n",
    "\n",
    "# change the number of displayed columns\n",
    "pd.set_option(\"display.max_rows\", 100)\n",
    "pd.set_option(\"display.max_columns\", 50)"
   ]
  },
  {
   "cell_type": "markdown",
   "metadata": {},
   "source": [
    "## Scraping"
   ]
  },
  {
   "cell_type": "markdown",
   "metadata": {
    "ExecuteTime": {
     "end_time": "2020-07-16T11:52:00.574782Z",
     "start_time": "2020-07-16T11:52:00.568831Z"
    }
   },
   "source": [
    "In this section the scraping is carried out. We will use two of the most common libraries for web scraping, namely ***BeautifulSoup (BS)*** and ***Selenium (SE)***.\n",
    "\n",
    "In many instances ***BS*** is a powerful enough tool, however, is not sufficient in our case. By performing only static scraping, ***BS*** fetches web pages from the server without the help of a browser, thereby ignoring JavaScript; in other words, it enables to retrieve exclusively what is displayed on the webpage.\n",
    "\n",
    "On the other hand, ***SE*** automates web browser interaction from Python offering the opportunity to interact with the website."
   ]
  },
  {
   "cell_type": "markdown",
   "metadata": {},
   "source": [
    "In short, we will use ***SE*** to automate the scroll down process until the page bottom to load all the page dynamically the button clicks and then can be scraped by means of ***BS***. Such a process is decomposed into 3 steps:\n",
    "\n",
    "1. retrieve dynamically the page source of the \"Attractions\" pages (***SE***);\n",
    "\n",
    "2. parse the sources to find the required types of attractions (***BS***);\n",
    "\n",
    "3. scrape latitude&longitude and Wikipedia description of the selected attractions (***SE***)."
   ]
  },
  {
   "cell_type": "markdown",
   "metadata": {},
   "source": [
    "The functions implemented in this section are stored in the file named `scraping.py` and thus imported from there."
   ]
  },
  {
   "cell_type": "markdown",
   "metadata": {},
   "source": [
    "### Page Source Scraping"
   ]
  },
  {
   "cell_type": "markdown",
   "metadata": {
    "ExecuteTime": {
     "end_time": "2020-07-16T11:52:00.574782Z",
     "start_time": "2020-07-16T11:52:00.568831Z"
    }
   },
   "source": [
    "The function `tripadvisor_scraper()` will enable us to retrieve the page source of the \"Attractions\" pages, returned as a dictionary. \n",
    "\n",
    "The only required argument is the self-explanatory `city name`, whereas the `number_of_pages` and `headless` are optionals. "
   ]
  },
  {
   "cell_type": "markdown",
   "metadata": {
    "ExecuteTime": {
     "end_time": "2020-07-16T11:52:00.574782Z",
     "start_time": "2020-07-16T11:52:00.568831Z"
    }
   },
   "source": [
    "The default `number_of_pages` is `None` and it refers to the number of pages to be scraped. In both cases when the number is not provided or the inputted number is larger than the actual number of available pages, the function will assign to it a value equal to the total number of available pages. \n",
    "\n",
    "`headless` is a Selenium option and simply decides whether to show the browser performing the scraping or not. The default is set to `True`since using the headless browser - with its lower CPU and memory cost and fewer moving parts to crash or hang - is ideal."
   ]
  },
  {
   "cell_type": "code",
   "execution_count": 3,
   "metadata": {
    "ExecuteTime": {
     "end_time": "2020-07-27T09:43:29.616772Z",
     "start_time": "2020-07-27T09:41:54.425067Z"
    }
   },
   "outputs": [
    {
     "name": "stdout",
     "output_type": "stream",
     "text": [
      "Page 3 out of 3 has been successfully scraped and parsed\n",
      "\n",
      "Scraping and parsing of Chicago's Tripadvisor pages have been successfully performed\n"
     ]
    }
   ],
   "source": [
    "page_source_dict = tripadvisor_scraper(city='Chicago', number_of_pages=3, headless=True)"
   ]
  },
  {
   "cell_type": "markdown",
   "metadata": {},
   "source": [
    "The following screenshots provide an understanding of the scraping process."
   ]
  },
  {
   "cell_type": "markdown",
   "metadata": {},
   "source": [
    "![](images/chicago_selection.png)"
   ]
  },
  {
   "cell_type": "markdown",
   "metadata": {},
   "source": [
    "![](images/things_to_do.png)"
   ]
  },
  {
   "cell_type": "markdown",
   "metadata": {},
   "source": [
    "![](images/attractions.png)"
   ]
  },
  {
   "cell_type": "markdown",
   "metadata": {},
   "source": [
    "Below, the first 2000 characters from one page source taken from the dictionary containing all the page sources."
   ]
  },
  {
   "cell_type": "code",
   "execution_count": 68,
   "metadata": {
    "ExecuteTime": {
     "end_time": "2020-07-27T15:23:14.378224Z",
     "start_time": "2020-07-27T15:23:14.297183Z"
    }
   },
   "outputs": [
    {
     "data": {
      "text/plain": [
       "'<html lang=\"en\"><head><meta http-equiv=\"content-type\" content=\"text/html; charset=utf-8\"><link rel=\"icon\" id=\"favicon\" href=\"https://static.tacdn.com/favicon.ico?v2\" type=\"image/x-icon\"><link rel=\"mask-icon\" sizes=\"any\" href=\"https://static.tacdn.com/img2/brand_refresh/application_icons/mask-icon.svg\" color=\"#000000\"><meta name=\"theme-color\" content=\"#34e0a1\"><meta name=\"format-detection\" content=\"telephone=no\"><script async=\"\" type=\"text/javascript\" src=\"//securepubads.g.doubleclick.net/tag/js/gpt.js\"></script><script src=\"https://connect.facebook.net/en_US/sdk.js?hash=17c9a7a22155f3679c749b7562a56f38&amp;ua=modern_es6\" async=\"\" crossorigin=\"anonymous\"></script><script id=\"facebook-jssdk\" src=\"//connect.facebook.net/en_US/sdk.js\"></script><script type=\"text/javascript\">window.taRollupsAreAsync = true;</script><link rel=\"stylesheet\" href=\"https://static.tacdn.com/css2/webfonts/TripSans/TripSans.css?v1.002\" crossorigin=\"\"><title>Chicago Attractions | Tripadvisor</title><meta name=\"keywords\" content=\"Chicago, Illinois, Things to do in Chicago, attraction, activity, things to do, fun, advice, attractions, attractions in Chicago, Illinois, activities in Chicago, Illinois, things to do in Chicago, Illinois, vacation, reviews, travel\"><meta property=\"og:title\" content=\"Chicago Attractions | Tripadvisor\"><meta property=\"og:description\" content=\"\"><meta property=\"og:image\" content=\"https://media-cdn.tripadvisor.com/media/photo-s/1b/33/fd/79/caption.jpg\"><meta property=\"og:image:width\" content=\"550\"><meta property=\"og:image:height\" content=\"331\"><meta name=\"twitter:image\" content=\"https://static.tacdn.com/img2/brand_refresh/application_icons/post-image-550x550.png\"><meta property=\"fb:pages\" content=\"5863091683\"><meta property=\"fb:pages\" content=\"329182043776593\"><meta http-equiv=\"pragma\" content=\"no-cache\"><meta http-equiv=\"cache-control\" content=\"no-cache,must-revalidate\"><meta http-equiv=\"expires\" content=\"0\"><meta name=\"viewport\" content=\"width=device-width, initial-scale'"
      ]
     },
     "execution_count": 68,
     "metadata": {},
     "output_type": "execute_result"
    }
   ],
   "source": [
    "page_source_dict[1][0:2000]"
   ]
  },
  {
   "cell_type": "markdown",
   "metadata": {},
   "source": [
    "### Attraction Parsing"
   ]
  },
  {
   "cell_type": "markdown",
   "metadata": {},
   "source": [
    "Now that we have retrieved the needed page sources, these will be parsed in order to retrieve the names of the landmarks.\n",
    "\n",
    "Keep in my mind that we could also define some specific type of attractions, based on our particular need. For this exercise, we will select only the three types shown in the picture."
   ]
  },
  {
   "cell_type": "markdown",
   "metadata": {
    "ExecuteTime": {
     "end_time": "2020-07-17T21:17:53.830684Z",
     "start_time": "2020-07-17T21:17:53.647322Z"
    }
   },
   "source": [
    "![](images/landmark_types.png)"
   ]
  },
  {
   "cell_type": "code",
   "execution_count": 10,
   "metadata": {
    "ExecuteTime": {
     "end_time": "2020-07-27T09:58:34.379681Z",
     "start_time": "2020-07-27T09:58:34.229636Z"
    }
   },
   "outputs": [],
   "source": [
    "# define the attraction types\n",
    "landmarks_list = ['Museums', 'Nature & Parks', 'Sights & Landmarks']"
   ]
  },
  {
   "cell_type": "markdown",
   "metadata": {},
   "source": [
    "`landmarks_dict()` is the function that returns a dictionary with the points of interests found in the page sources.\n",
    "\n",
    "`page_source` is the only mandatory argument and requires a dictionary with the page sources to be parsed.\n",
    "On the other hand, `landmarks_list` is optional and accepts as input a list containing the type of landmarks to be searched."
   ]
  },
  {
   "cell_type": "code",
   "execution_count": 12,
   "metadata": {
    "ExecuteTime": {
     "end_time": "2020-07-27T09:59:11.367369Z",
     "start_time": "2020-07-27T09:59:10.042916Z"
    },
    "scrolled": true
   },
   "outputs": [
    {
     "name": "stdout",
     "output_type": "stream",
     "text": [
      "56 landmarks have been successfully inserted in the dictionary\n"
     ]
    }
   ],
   "source": [
    "# parse the page source to search landmarks\n",
    "landmarks_dict = landmarks_parser(page_source=page_source_dict, landmarks_list=landmarks_list)"
   ]
  },
  {
   "cell_type": "markdown",
   "metadata": {},
   "source": [
    "The landmarks found that match the type(s) provided by the user are returned stored in a dictionary. One example is shown below."
   ]
  },
  {
   "cell_type": "code",
   "execution_count": 7,
   "metadata": {
    "ExecuteTime": {
     "end_time": "2020-07-27T07:18:55.557557Z",
     "start_time": "2020-07-27T07:18:55.363467Z"
    }
   },
   "outputs": [
    {
     "data": {
      "text/plain": [
       "{'name': 'The Art Institute of Chicago'}"
      ]
     },
     "execution_count": 7,
     "metadata": {},
     "output_type": "execute_result"
    }
   ],
   "source": [
    "landmarks_dict[1]"
   ]
  },
  {
   "cell_type": "markdown",
   "metadata": {},
   "source": [
    "### Attraction's Information Scraping"
   ]
  },
  {
   "cell_type": "markdown",
   "metadata": {},
   "source": [
    "Once the desired attraction types have been parsed, we can proceed with the scraping of latitude&longitude of the selected attractions. This step is necessary to plot the landmarks on Chicago's GoogleMap, thus making the comparison with the clusters visually compelling.\n",
    "\n",
    "Further, the Wikipedia description will be also retrieved. This is not strictly necessary but nonetheless it is a fine detail that will enable the user to identify each of the plotted landmarks."
   ]
  },
  {
   "cell_type": "markdown",
   "metadata": {},
   "source": [
    "To this end, we have developed the function `points_of_interest()`. As explained above, this function will search the latitude & longitude as well as the Wikipedia description and attach them to its respective vocabulary key, if found (or \"NA\" otherwise).\n",
    "\n",
    "The unique mandatory parameter is `points_of_interest`, that is, a dictionary with the landmarks (as `str`) to be scraped. Similarly to the `number_of_pois` and `headless` follow exaclty the same logic as their counterparts in function `tripadvisor_scraper()`."
   ]
  },
  {
   "cell_type": "code",
   "execution_count": 6,
   "metadata": {
    "ExecuteTime": {
     "end_time": "2020-07-27T09:56:28.447317Z",
     "start_time": "2020-07-27T09:44:27.251878Z"
    }
   },
   "outputs": [
    {
     "name": "stdout",
     "output_type": "stream",
     "text": [
      "Chrome is already in English or English is not available\n",
      "\n",
      "\n",
      "Landmark 56 out of 56 has been successfully scraped\n",
      "\n",
      "Scraping of coordinates and description has been successfully performed\n"
     ]
    }
   ],
   "source": [
    "points_of_interest = info_scraper(points_of_interest=landmarks_dict, number_of_pois=None, headless=True)"
   ]
  },
  {
   "cell_type": "markdown",
   "metadata": {},
   "source": [
    "An example is presented below, where both pieces of information are actually available. "
   ]
  },
  {
   "cell_type": "markdown",
   "metadata": {},
   "source": [
    "![](images/google_search_bar.png)"
   ]
  },
  {
   "cell_type": "markdown",
   "metadata": {},
   "source": [
    "![](images/landmarks_gps_wiki.png)"
   ]
  },
  {
   "cell_type": "markdown",
   "metadata": {},
   "source": [
    "Now, we will drop the landamks with etiher missing latitude & longitude or Wikipedia description. "
   ]
  },
  {
   "cell_type": "code",
   "execution_count": 7,
   "metadata": {
    "ExecuteTime": {
     "end_time": "2020-07-27T09:58:21.791111Z",
     "start_time": "2020-07-27T09:58:21.601583Z"
    }
   },
   "outputs": [],
   "source": [
    "points_of_interest_list = []\n",
    "for i in range(1, len(points_of_interest) + 1):\n",
    "    if points_of_interest[i]['location'] != \"NA\":\n",
    "        points_of_interest_list.append({\"name\": points_of_interest[i]['name'], \"location\": points_of_interest[i]['location'],\n",
    "                                        \"description\": points_of_interest[i]['description']})"
   ]
  },
  {
   "cell_type": "markdown",
   "metadata": {},
   "source": [
    "Apparently, we have lost some of the original landmarks. "
   ]
  },
  {
   "cell_type": "code",
   "execution_count": 8,
   "metadata": {
    "ExecuteTime": {
     "end_time": "2020-07-27T09:58:23.594172Z",
     "start_time": "2020-07-27T09:58:23.444340Z"
    }
   },
   "outputs": [
    {
     "data": {
      "text/plain": [
       "47"
      ]
     },
     "execution_count": 8,
     "metadata": {},
     "output_type": "execute_result"
    }
   ],
   "source": [
    "len(points_of_interest_list)"
   ]
  },
  {
   "cell_type": "markdown",
   "metadata": {},
   "source": [
    "And this is the result of the cleaning, a nested dictionary."
   ]
  },
  {
   "cell_type": "code",
   "execution_count": 9,
   "metadata": {
    "ExecuteTime": {
     "end_time": "2020-07-27T09:58:25.913958Z",
     "start_time": "2020-07-27T09:58:25.747583Z"
    }
   },
   "outputs": [
    {
     "data": {
      "text/plain": [
       "[{'name': 'The Art Institute of Chicago',\n",
       "  'location': (41.8796, -87.6237),\n",
       "  'description': \"The Art Institute of Chicago in Chicago's Grant Park, founded in 1879, is one of the oldest and largest art museums in the United States. Recognized for its curatorial efforts and popularity among visitors, the museum hosts approximately 1.5 million people annually. \"},\n",
       " {'name': 'Museum of Science and Industry',\n",
       "  'location': (41.7906, -87.5831),\n",
       "  'description': \"The Museum of Science and Industry is a science museum located in Chicago, Illinois, in Jackson Park, in the Hyde Park neighborhood between Lake Michigan and The University of Chicago. It is housed in the former Palace of Fine Arts from the 1893 World's Columbian Exposition. \"}]"
      ]
     },
     "execution_count": 9,
     "metadata": {},
     "output_type": "execute_result"
    }
   ],
   "source": [
    "points_of_interest_list[0:2]"
   ]
  },
  {
   "cell_type": "markdown",
   "metadata": {},
   "source": [
    "Cheers to us! We have no retrieved all the geospatial data and descriptions needed to plot the landmarks on GoogleMap. \n",
    "\n",
    "Let's now plot them on the map to get a practical understanding of what we have accomplished. "
   ]
  },
  {
   "cell_type": "markdown",
   "metadata": {},
   "source": [
    "<div class=\"alert alert-block alert-success\">\n",
    "<b>Tip:</b> Run the below cell only if you have if interested in trying the code out. Else, its result is loaded two cells below as picture. \n",
    "</div>"
   ]
  },
  {
   "cell_type": "code",
   "execution_count": 13,
   "metadata": {
    "ExecuteTime": {
     "end_time": "2020-07-27T09:59:30.508018Z",
     "start_time": "2020-07-27T09:59:19.451973Z"
    }
   },
   "outputs": [
    {
     "data": {
      "application/vnd.jupyter.widget-view+json": {
       "model_id": "9b7baa5307fb4c32864a82bcf8deb20a",
       "version_major": 2,
       "version_minor": 0
      },
      "text/plain": [
       "Figure(layout=FigureLayout(border='1px solid black', height='800px', padding='1px', width='1200px'))"
      ]
     },
     "metadata": {},
     "output_type": "display_data"
    }
   ],
   "source": [
    "# set the map configurations\n",
    "figure_layout = {\n",
    "    'width': '1200px',\n",
    "    'height': '800px',\n",
    "    'border': '1px solid black',\n",
    "    'padding': '1px'\n",
    "}\n",
    "\n",
    "# build the map base\n",
    "map_pois = gmaps.figure(map_type='ROADMAP', layout=figure_layout,\n",
    "                   zoom_level=11, center=(41.834275, -87.691385))\n",
    "\n",
    "# retrieve the coordinates for the pins to plot on the map\n",
    "points_of_interest_locations = [poi['location']\n",
    "                                for poi in points_of_interest_list]\n",
    "\n",
    "# generate the infobox template for the pins\n",
    "info_box_template = \"\"\"\n",
    "<dl>\n",
    "<dt>Name:</dt><dd>{name}</dd>\n",
    "<dt>Description:</dt><dd>{description}</dd>\n",
    "</dl>\n",
    "\"\"\"\n",
    "# add specific info to each specific pin\n",
    "points_of_interest_info = [info_box_template.format(\n",
    "    **poi) for poi in points_of_interest_list]\n",
    "\n",
    "# generate the marker layer maps\n",
    "marker_layer = gmaps.marker_layer(\n",
    "    points_of_interest_locations, info_box_content=points_of_interest_info)\n",
    "\n",
    "# open the json with Census boundaries\n",
    "with open('./data/boundaries_census_tracts.geojson') as json_file:\n",
    "    boundaries = json.load(json_file)\n",
    "\n",
    "# generate the district boundaries on the map\n",
    "geojson_layer = gmaps.geojson_layer(boundaries)\n",
    "\n",
    "# add all the layers on the map\n",
    "map_pois.add_layer(marker_layer)\n",
    "map_pois.add_layer(geojson_layer)\n",
    "\n",
    "# plot the map\n",
    "map_pois"
   ]
  },
  {
   "cell_type": "markdown",
   "metadata": {},
   "source": [
    "![](images/chicago_map_census_pois.jpg)"
   ]
  },
  {
   "cell_type": "markdown",
   "metadata": {},
   "source": [
    "The landmarks have been plotted on the map based on their latitude and longitude. Clicking on one of them would generate a pop-up displaying the name and the description.   \n",
    "\n",
    "Further, as a fine detail to help visualize better Chicago's city limits, `GeoJSON` data about the city's Census Tracts obtained from [here](https://data.cityofchicago.org/Facilities-Geographic-Boundaries/Boundaries-Neighborhoods/bbvz-uum9) has also been plotted."
   ]
  },
  {
   "cell_type": "markdown",
   "metadata": {},
   "source": [
    "At this point, having scraped some points of interest and their information, we can set these data aside for a moment and move to next phase, the taxi ride data retrieval and cleaning."
   ]
  },
  {
   "cell_type": "markdown",
   "metadata": {},
   "source": [
    "## Data Collection and Preprocessing"
   ]
  },
  {
   "cell_type": "markdown",
   "metadata": {},
   "source": [
    "### Collection"
   ]
  },
  {
   "cell_type": "markdown",
   "metadata": {},
   "source": [
    "<div class=\"alert alert-block alert-success\">\n",
    "<b>Tip:</b> Run this section (<i>\"4.1 Collection\"</i>) if you have not yet saved the dataset locally.  Else, move to section <i>\"4.2 Preprocessing\"</i>. \n",
    "</div>"
   ]
  },
  {
   "cell_type": "markdown",
   "metadata": {},
   "source": [
    "The dataset about taxi rides in Chicago is publicly available and retrievable from [here](https://data.cityofchicago.org/Transportation/Taxi-Trips/wrvz-psew).\n",
    "\n",
    "There are two potential ways of collecting such data:\n",
    "+  Downloading the available `.csv` file;\n",
    "+ Socrata Open Data API (SODA) API.\n",
    "\n",
    "We opt for SODA given its flexibility. In fact, it provides programmatic access to this dataset including the ability to filter, query, and aggregate data, instead of downloading the full 194 million rows."
   ]
  },
  {
   "cell_type": "markdown",
   "metadata": {},
   "source": [
    "For this example, we will retrieve 500.000 taxi rides comprised between the first of January 2017 and the same day in 2019. "
   ]
  },
  {
   "cell_type": "code",
   "execution_count": null,
   "metadata": {
    "ExecuteTime": {
     "end_time": "2020-07-15T07:19:18.194465Z",
     "start_time": "2020-07-15T07:16:56.124997Z"
    }
   },
   "outputs": [],
   "source": [
    "# Unauthenticated client only works with public data sets.\n",
    "# Note 'None' in place of application token, and no username or password:\n",
    "client = Socrata(\"data.cityofchicago.org\", None)\n",
    "\n",
    "# retrieve the results from the specified online database\n",
    "# based on the conditions determined in 'where' argument\n",
    "results = client.get(\"wrvz-psew\", where=\"trip_start_timestamp > '2017-01-01T00:00:01.000' AND trip_start_timestamp < '2019-01-01T00:00:01.000'\",\n",
    "                     limit=500000)"
   ]
  },
  {
   "cell_type": "markdown",
   "metadata": {},
   "source": [
    "The collected rides are then stored into a pandas dataframe and eventually saved as a `.csv` file locally. This will enable to quickly load the data in future occasions. "
   ]
  },
  {
   "cell_type": "code",
   "execution_count": 8,
   "metadata": {
    "ExecuteTime": {
     "end_time": "2020-07-15T11:52:00.636486Z",
     "start_time": "2020-07-15T11:52:00.570460Z"
    }
   },
   "outputs": [],
   "source": [
    "# convert to pandas DataFrame\n",
    "df = pd.DataFrame.from_records(results)\n",
    "\n",
    "# add dataframe to csv file named 'taxi_rides.csv'\n",
    "df.to_csv('./data/taxi_rides.csv', index=False)"
   ]
  },
  {
   "cell_type": "markdown",
   "metadata": {},
   "source": [
    "### PreProcessing"
   ]
  },
  {
   "cell_type": "markdown",
   "metadata": {},
   "source": [
    "As usual, we begin by loading the dataset (in this case, only the first 400.000 arbitrarily) and carry out some initial data exploration to get acquainted with the data."
   ]
  },
  {
   "cell_type": "code",
   "execution_count": 14,
   "metadata": {
    "ExecuteTime": {
     "end_time": "2020-07-27T09:59:47.167735Z",
     "start_time": "2020-07-27T09:59:47.019951Z"
    }
   },
   "outputs": [],
   "source": [
    "# define the number of rows to be uplaoded (max 500.000)\n",
    "row_number = 400000"
   ]
  },
  {
   "cell_type": "code",
   "execution_count": 15,
   "metadata": {
    "ExecuteTime": {
     "end_time": "2020-07-27T09:59:54.441205Z",
     "start_time": "2020-07-27T09:59:49.919998Z"
    }
   },
   "outputs": [],
   "source": [
    "# load the csv, but only the first 250.000 entries \n",
    "df = pd.read_csv('./data/taxi_rides.csv', nrows=row_number)"
   ]
  },
  {
   "cell_type": "code",
   "execution_count": 16,
   "metadata": {
    "ExecuteTime": {
     "end_time": "2020-07-27T09:59:57.410773Z",
     "start_time": "2020-07-27T09:59:57.230782Z"
    }
   },
   "outputs": [
    {
     "name": "stdout",
     "output_type": "stream",
     "text": [
      "The dataset has 400000 rows and 23 columns.\n"
     ]
    }
   ],
   "source": [
    "# print the number of rows and the number of columns\n",
    "print(\"The dataset has {} rows and {} columns.\".format(df.shape[0], df.shape[1]))"
   ]
  },
  {
   "cell_type": "code",
   "execution_count": 17,
   "metadata": {
    "ExecuteTime": {
     "end_time": "2020-07-27T10:00:00.668077Z",
     "start_time": "2020-07-27T10:00:00.221952Z"
    }
   },
   "outputs": [
    {
     "name": "stdout",
     "output_type": "stream",
     "text": [
      "<class 'pandas.core.frame.DataFrame'>\n",
      "RangeIndex: 400000 entries, 0 to 399999\n",
      "Data columns (total 23 columns):\n",
      "trip_id                       400000 non-null object\n",
      "taxi_id                       399798 non-null object\n",
      "trip_start_timestamp          400000 non-null object\n",
      "trip_end_timestamp            399961 non-null object\n",
      "trip_seconds                  399961 non-null float64\n",
      "trip_miles                    399999 non-null float64\n",
      "pickup_census_tract           299939 non-null float64\n",
      "dropoff_census_tract          297227 non-null float64\n",
      "pickup_community_area         399986 non-null float64\n",
      "dropoff_community_area        391164 non-null float64\n",
      "fare                          400000 non-null float64\n",
      "tips                          400000 non-null float64\n",
      "tolls                         399993 non-null float64\n",
      "extras                        400000 non-null float64\n",
      "trip_total                    400000 non-null float64\n",
      "payment_type                  400000 non-null object\n",
      "company                       400000 non-null object\n",
      "pickup_centroid_latitude      400000 non-null float64\n",
      "pickup_centroid_longitude     400000 non-null float64\n",
      "pickup_centroid_location      400000 non-null object\n",
      "dropoff_centroid_latitude     391931 non-null float64\n",
      "dropoff_centroid_longitude    391931 non-null float64\n",
      "dropoff_centroid_location     391931 non-null object\n",
      "dtypes: float64(15), object(8)\n",
      "memory usage: 70.2+ MB\n"
     ]
    }
   ],
   "source": [
    "# show the column type\n",
    "df.info()"
   ]
  },
  {
   "cell_type": "markdown",
   "metadata": {},
   "source": [
    "The meaning of the features will be briefly explained as we encounter them throughout the notebook, yet, the interested reader can find their thorough description [here](https://data.cityofchicago.org/Transportation/Taxi-Trips/wrvz-psew).\n",
    "\n",
    "Anyways, the dataset contains 23 columns and the majority are of `float` type whereas the rest is `object` - the latter meaning that they are composed of text, or mixed numeric and non-numeric values. This can be assessed also by printing out some 10 randomly selected rows. "
   ]
  },
  {
   "cell_type": "code",
   "execution_count": 18,
   "metadata": {
    "ExecuteTime": {
     "end_time": "2020-07-27T10:00:04.041436Z",
     "start_time": "2020-07-27T10:00:03.732448Z"
    }
   },
   "outputs": [
    {
     "data": {
      "text/html": [
       "<div>\n",
       "<style scoped>\n",
       "    .dataframe tbody tr th:only-of-type {\n",
       "        vertical-align: middle;\n",
       "    }\n",
       "\n",
       "    .dataframe tbody tr th {\n",
       "        vertical-align: top;\n",
       "    }\n",
       "\n",
       "    .dataframe thead th {\n",
       "        text-align: right;\n",
       "    }\n",
       "</style>\n",
       "<table border=\"1\" class=\"dataframe\">\n",
       "  <thead>\n",
       "    <tr style=\"text-align: right;\">\n",
       "      <th></th>\n",
       "      <th>trip_id</th>\n",
       "      <th>taxi_id</th>\n",
       "      <th>trip_start_timestamp</th>\n",
       "      <th>trip_end_timestamp</th>\n",
       "      <th>trip_seconds</th>\n",
       "      <th>trip_miles</th>\n",
       "      <th>pickup_census_tract</th>\n",
       "      <th>dropoff_census_tract</th>\n",
       "      <th>pickup_community_area</th>\n",
       "      <th>dropoff_community_area</th>\n",
       "      <th>fare</th>\n",
       "      <th>tips</th>\n",
       "      <th>tolls</th>\n",
       "      <th>extras</th>\n",
       "      <th>trip_total</th>\n",
       "      <th>payment_type</th>\n",
       "      <th>company</th>\n",
       "      <th>pickup_centroid_latitude</th>\n",
       "      <th>pickup_centroid_longitude</th>\n",
       "      <th>pickup_centroid_location</th>\n",
       "      <th>dropoff_centroid_latitude</th>\n",
       "      <th>dropoff_centroid_longitude</th>\n",
       "      <th>dropoff_centroid_location</th>\n",
       "    </tr>\n",
       "  </thead>\n",
       "  <tbody>\n",
       "    <tr>\n",
       "      <th>304169</th>\n",
       "      <td>d22f7769b6fe6662bb80bde2324706a7aef71290</td>\n",
       "      <td>473c164e34e4ce1f5df4c7ada1478d8b9d27b10737351c...</td>\n",
       "      <td>2017-03-03T10:45:00.000</td>\n",
       "      <td>2017-03-03T11:00:00.000</td>\n",
       "      <td>660.0</td>\n",
       "      <td>0.0</td>\n",
       "      <td>1.703128e+10</td>\n",
       "      <td>1.703108e+10</td>\n",
       "      <td>28.0</td>\n",
       "      <td>8.0</td>\n",
       "      <td>9.50</td>\n",
       "      <td>0.00</td>\n",
       "      <td>0.0</td>\n",
       "      <td>1.0</td>\n",
       "      <td>10.50</td>\n",
       "      <td>Cash</td>\n",
       "      <td>Northwest Management LLC</td>\n",
       "      <td>41.879255</td>\n",
       "      <td>-87.642649</td>\n",
       "      <td>{'type': 'Point', 'coordinates': [-87.64264899...</td>\n",
       "      <td>41.895033</td>\n",
       "      <td>-87.619711</td>\n",
       "      <td>{'type': 'Point', 'coordinates': [-87.61971067...</td>\n",
       "    </tr>\n",
       "    <tr>\n",
       "      <th>116897</th>\n",
       "      <td>a2680eca75a2d478a1b7d21adbf1da01f28c941b</td>\n",
       "      <td>fc0c7db172c81d1a2ab72cc31b27f4917d40ee8d0a43d6...</td>\n",
       "      <td>2017-02-14T18:45:00.000</td>\n",
       "      <td>2017-02-14T19:00:00.000</td>\n",
       "      <td>720.0</td>\n",
       "      <td>0.0</td>\n",
       "      <td>1.703108e+10</td>\n",
       "      <td>1.703128e+10</td>\n",
       "      <td>8.0</td>\n",
       "      <td>28.0</td>\n",
       "      <td>8.00</td>\n",
       "      <td>1.50</td>\n",
       "      <td>0.0</td>\n",
       "      <td>0.0</td>\n",
       "      <td>9.50</td>\n",
       "      <td>Credit Card</td>\n",
       "      <td>Taxi Affiliation Services</td>\n",
       "      <td>41.892042</td>\n",
       "      <td>-87.631864</td>\n",
       "      <td>{'type': 'Point', 'coordinates': [-87.63186394...</td>\n",
       "      <td>41.879255</td>\n",
       "      <td>-87.642649</td>\n",
       "      <td>{'type': 'Point', 'coordinates': [-87.64264899...</td>\n",
       "    </tr>\n",
       "    <tr>\n",
       "      <th>36720</th>\n",
       "      <td>e4c60c1ec3e08760484bf2e3114fa3a9550c82a4</td>\n",
       "      <td>29f6d119e21d61401aa5156346aca14fad3d0fea0dc1c8...</td>\n",
       "      <td>2017-02-19T15:00:00.000</td>\n",
       "      <td>2017-02-19T15:15:00.000</td>\n",
       "      <td>660.0</td>\n",
       "      <td>2.7</td>\n",
       "      <td>NaN</td>\n",
       "      <td>NaN</td>\n",
       "      <td>24.0</td>\n",
       "      <td>8.0</td>\n",
       "      <td>10.50</td>\n",
       "      <td>2.00</td>\n",
       "      <td>0.0</td>\n",
       "      <td>1.0</td>\n",
       "      <td>13.50</td>\n",
       "      <td>Credit Card</td>\n",
       "      <td>Taxi Affiliation Services</td>\n",
       "      <td>41.901207</td>\n",
       "      <td>-87.676356</td>\n",
       "      <td>{'type': 'Point', 'coordinates': [-87.67635598...</td>\n",
       "      <td>41.899602</td>\n",
       "      <td>-87.633308</td>\n",
       "      <td>{'type': 'Point', 'coordinates': [-87.63330803...</td>\n",
       "    </tr>\n",
       "    <tr>\n",
       "      <th>113560</th>\n",
       "      <td>6e6bb5cb4cdcc903d5c23d106525b8241d11bb2c</td>\n",
       "      <td>0881b7b36b4aad06e5ee59472465b15a6620637f694aae...</td>\n",
       "      <td>2017-01-22T10:00:00.000</td>\n",
       "      <td>2017-01-22T10:15:00.000</td>\n",
       "      <td>360.0</td>\n",
       "      <td>0.0</td>\n",
       "      <td>1.703108e+10</td>\n",
       "      <td>1.703108e+10</td>\n",
       "      <td>8.0</td>\n",
       "      <td>8.0</td>\n",
       "      <td>6.50</td>\n",
       "      <td>1.00</td>\n",
       "      <td>0.0</td>\n",
       "      <td>0.0</td>\n",
       "      <td>7.50</td>\n",
       "      <td>Credit Card</td>\n",
       "      <td>Taxi Affiliation Services</td>\n",
       "      <td>41.900221</td>\n",
       "      <td>-87.629105</td>\n",
       "      <td>{'type': 'Point', 'coordinates': [-87.62910518...</td>\n",
       "      <td>41.893216</td>\n",
       "      <td>-87.637844</td>\n",
       "      <td>{'type': 'Point', 'coordinates': [-87.63784420...</td>\n",
       "    </tr>\n",
       "    <tr>\n",
       "      <th>120410</th>\n",
       "      <td>5571e9bbdf8d902f1685164e02537e8bbe89c8e6</td>\n",
       "      <td>634bc0295489ab0b50cebcc10d6d3e0b8ed7dc079e9473...</td>\n",
       "      <td>2017-02-15T12:15:00.000</td>\n",
       "      <td>2017-02-15T12:15:00.000</td>\n",
       "      <td>0.0</td>\n",
       "      <td>0.0</td>\n",
       "      <td>NaN</td>\n",
       "      <td>NaN</td>\n",
       "      <td>76.0</td>\n",
       "      <td>76.0</td>\n",
       "      <td>3.25</td>\n",
       "      <td>0.00</td>\n",
       "      <td>0.0</td>\n",
       "      <td>0.0</td>\n",
       "      <td>3.25</td>\n",
       "      <td>Cash</td>\n",
       "      <td>Choice Taxi Association</td>\n",
       "      <td>41.980264</td>\n",
       "      <td>-87.913625</td>\n",
       "      <td>{'type': 'Point', 'coordinates': [-87.91362459...</td>\n",
       "      <td>41.980264</td>\n",
       "      <td>-87.913625</td>\n",
       "      <td>{'type': 'Point', 'coordinates': [-87.91362459...</td>\n",
       "    </tr>\n",
       "    <tr>\n",
       "      <th>291580</th>\n",
       "      <td>93aa21300a554b2be29f71192a1a27a37c49b9cd</td>\n",
       "      <td>effecc1cd82175a1d0bbe1def9ef38f52a9f6f437d1981...</td>\n",
       "      <td>2017-02-16T14:15:00.000</td>\n",
       "      <td>2017-02-16T14:30:00.000</td>\n",
       "      <td>720.0</td>\n",
       "      <td>0.1</td>\n",
       "      <td>1.703184e+10</td>\n",
       "      <td>1.703108e+10</td>\n",
       "      <td>32.0</td>\n",
       "      <td>8.0</td>\n",
       "      <td>9.75</td>\n",
       "      <td>1.00</td>\n",
       "      <td>0.0</td>\n",
       "      <td>0.0</td>\n",
       "      <td>10.75</td>\n",
       "      <td>Credit Card</td>\n",
       "      <td>Taxi Affiliation Services</td>\n",
       "      <td>41.880994</td>\n",
       "      <td>-87.632746</td>\n",
       "      <td>{'type': 'Point', 'coordinates': [-87.63274648...</td>\n",
       "      <td>41.907520</td>\n",
       "      <td>-87.626659</td>\n",
       "      <td>{'type': 'Point', 'coordinates': [-87.62665890...</td>\n",
       "    </tr>\n",
       "    <tr>\n",
       "      <th>242012</th>\n",
       "      <td>9d42310824c456b42409a32e972fd0a62756fce8</td>\n",
       "      <td>10cb380e744ed76d4cf3461ca8671683cd392139e0e2af...</td>\n",
       "      <td>2017-02-12T23:00:00.000</td>\n",
       "      <td>2017-02-12T23:30:00.000</td>\n",
       "      <td>1620.0</td>\n",
       "      <td>15.0</td>\n",
       "      <td>NaN</td>\n",
       "      <td>NaN</td>\n",
       "      <td>56.0</td>\n",
       "      <td>39.0</td>\n",
       "      <td>38.75</td>\n",
       "      <td>8.95</td>\n",
       "      <td>0.0</td>\n",
       "      <td>6.0</td>\n",
       "      <td>53.70</td>\n",
       "      <td>Credit Card</td>\n",
       "      <td>Taxi Affiliation Services</td>\n",
       "      <td>41.792592</td>\n",
       "      <td>-87.769615</td>\n",
       "      <td>{'type': 'Point', 'coordinates': [-87.76961545...</td>\n",
       "      <td>41.808916</td>\n",
       "      <td>-87.596183</td>\n",
       "      <td>{'type': 'Point', 'coordinates': [-87.59618334...</td>\n",
       "    </tr>\n",
       "    <tr>\n",
       "      <th>370364</th>\n",
       "      <td>b17d0b0d546272a98c4515180a97b46b966cfbb7</td>\n",
       "      <td>cd1574bcd03f25b70cb75eab0dbe94b0b04a60cfe2abb0...</td>\n",
       "      <td>2017-02-27T14:00:00.000</td>\n",
       "      <td>2017-02-27T14:15:00.000</td>\n",
       "      <td>1440.0</td>\n",
       "      <td>17.9</td>\n",
       "      <td>1.703184e+10</td>\n",
       "      <td>1.703198e+10</td>\n",
       "      <td>32.0</td>\n",
       "      <td>76.0</td>\n",
       "      <td>43.75</td>\n",
       "      <td>8.75</td>\n",
       "      <td>0.0</td>\n",
       "      <td>0.0</td>\n",
       "      <td>52.50</td>\n",
       "      <td>Credit Card</td>\n",
       "      <td>Top Cab Affiliation</td>\n",
       "      <td>41.880994</td>\n",
       "      <td>-87.632746</td>\n",
       "      <td>{'type': 'Point', 'coordinates': [-87.63274648...</td>\n",
       "      <td>41.979071</td>\n",
       "      <td>-87.903040</td>\n",
       "      <td>{'type': 'Point', 'coordinates': [-87.90303966...</td>\n",
       "    </tr>\n",
       "    <tr>\n",
       "      <th>206939</th>\n",
       "      <td>8a4c75465b2a5076d240060c48708a53b57836a9</td>\n",
       "      <td>c4eb7d8517b858b849d78a9708e2a0f102123f6b09bed1...</td>\n",
       "      <td>2017-03-05T01:30:00.000</td>\n",
       "      <td>2017-03-05T01:45:00.000</td>\n",
       "      <td>840.0</td>\n",
       "      <td>0.3</td>\n",
       "      <td>1.703108e+10</td>\n",
       "      <td>1.703107e+10</td>\n",
       "      <td>8.0</td>\n",
       "      <td>7.0</td>\n",
       "      <td>16.75</td>\n",
       "      <td>0.00</td>\n",
       "      <td>0.0</td>\n",
       "      <td>1.0</td>\n",
       "      <td>17.75</td>\n",
       "      <td>Cash</td>\n",
       "      <td>Taxi Affiliation Services</td>\n",
       "      <td>41.892508</td>\n",
       "      <td>-87.626215</td>\n",
       "      <td>{'type': 'Point', 'coordinates': [-87.62621490...</td>\n",
       "      <td>41.929273</td>\n",
       "      <td>-87.673807</td>\n",
       "      <td>{'type': 'Point', 'coordinates': [-87.67380723...</td>\n",
       "    </tr>\n",
       "    <tr>\n",
       "      <th>203713</th>\n",
       "      <td>8fdf621013d62add2ab1e16c8d547d41a4e22260</td>\n",
       "      <td>084b422a6d13f5d6b7be4a235cb6cc68363b39f24536de...</td>\n",
       "      <td>2017-02-12T05:45:00.000</td>\n",
       "      <td>2017-02-12T05:45:00.000</td>\n",
       "      <td>480.0</td>\n",
       "      <td>2.6</td>\n",
       "      <td>NaN</td>\n",
       "      <td>NaN</td>\n",
       "      <td>8.0</td>\n",
       "      <td>7.0</td>\n",
       "      <td>9.50</td>\n",
       "      <td>2.00</td>\n",
       "      <td>0.0</td>\n",
       "      <td>0.0</td>\n",
       "      <td>11.50</td>\n",
       "      <td>Credit Card</td>\n",
       "      <td>Northwest Management LLC</td>\n",
       "      <td>41.899602</td>\n",
       "      <td>-87.633308</td>\n",
       "      <td>{'type': 'Point', 'coordinates': [-87.63330803...</td>\n",
       "      <td>41.922686</td>\n",
       "      <td>-87.649489</td>\n",
       "      <td>{'type': 'Point', 'coordinates': [-87.64948872...</td>\n",
       "    </tr>\n",
       "  </tbody>\n",
       "</table>\n",
       "</div>"
      ],
      "text/plain": [
       "                                         trip_id  \\\n",
       "304169  d22f7769b6fe6662bb80bde2324706a7aef71290   \n",
       "116897  a2680eca75a2d478a1b7d21adbf1da01f28c941b   \n",
       "36720   e4c60c1ec3e08760484bf2e3114fa3a9550c82a4   \n",
       "113560  6e6bb5cb4cdcc903d5c23d106525b8241d11bb2c   \n",
       "120410  5571e9bbdf8d902f1685164e02537e8bbe89c8e6   \n",
       "291580  93aa21300a554b2be29f71192a1a27a37c49b9cd   \n",
       "242012  9d42310824c456b42409a32e972fd0a62756fce8   \n",
       "370364  b17d0b0d546272a98c4515180a97b46b966cfbb7   \n",
       "206939  8a4c75465b2a5076d240060c48708a53b57836a9   \n",
       "203713  8fdf621013d62add2ab1e16c8d547d41a4e22260   \n",
       "\n",
       "                                                  taxi_id  \\\n",
       "304169  473c164e34e4ce1f5df4c7ada1478d8b9d27b10737351c...   \n",
       "116897  fc0c7db172c81d1a2ab72cc31b27f4917d40ee8d0a43d6...   \n",
       "36720   29f6d119e21d61401aa5156346aca14fad3d0fea0dc1c8...   \n",
       "113560  0881b7b36b4aad06e5ee59472465b15a6620637f694aae...   \n",
       "120410  634bc0295489ab0b50cebcc10d6d3e0b8ed7dc079e9473...   \n",
       "291580  effecc1cd82175a1d0bbe1def9ef38f52a9f6f437d1981...   \n",
       "242012  10cb380e744ed76d4cf3461ca8671683cd392139e0e2af...   \n",
       "370364  cd1574bcd03f25b70cb75eab0dbe94b0b04a60cfe2abb0...   \n",
       "206939  c4eb7d8517b858b849d78a9708e2a0f102123f6b09bed1...   \n",
       "203713  084b422a6d13f5d6b7be4a235cb6cc68363b39f24536de...   \n",
       "\n",
       "           trip_start_timestamp       trip_end_timestamp  trip_seconds  \\\n",
       "304169  2017-03-03T10:45:00.000  2017-03-03T11:00:00.000         660.0   \n",
       "116897  2017-02-14T18:45:00.000  2017-02-14T19:00:00.000         720.0   \n",
       "36720   2017-02-19T15:00:00.000  2017-02-19T15:15:00.000         660.0   \n",
       "113560  2017-01-22T10:00:00.000  2017-01-22T10:15:00.000         360.0   \n",
       "120410  2017-02-15T12:15:00.000  2017-02-15T12:15:00.000           0.0   \n",
       "291580  2017-02-16T14:15:00.000  2017-02-16T14:30:00.000         720.0   \n",
       "242012  2017-02-12T23:00:00.000  2017-02-12T23:30:00.000        1620.0   \n",
       "370364  2017-02-27T14:00:00.000  2017-02-27T14:15:00.000        1440.0   \n",
       "206939  2017-03-05T01:30:00.000  2017-03-05T01:45:00.000         840.0   \n",
       "203713  2017-02-12T05:45:00.000  2017-02-12T05:45:00.000         480.0   \n",
       "\n",
       "        trip_miles  pickup_census_tract  dropoff_census_tract  \\\n",
       "304169         0.0         1.703128e+10          1.703108e+10   \n",
       "116897         0.0         1.703108e+10          1.703128e+10   \n",
       "36720          2.7                  NaN                   NaN   \n",
       "113560         0.0         1.703108e+10          1.703108e+10   \n",
       "120410         0.0                  NaN                   NaN   \n",
       "291580         0.1         1.703184e+10          1.703108e+10   \n",
       "242012        15.0                  NaN                   NaN   \n",
       "370364        17.9         1.703184e+10          1.703198e+10   \n",
       "206939         0.3         1.703108e+10          1.703107e+10   \n",
       "203713         2.6                  NaN                   NaN   \n",
       "\n",
       "        pickup_community_area  dropoff_community_area   fare  tips  tolls  \\\n",
       "304169                   28.0                     8.0   9.50  0.00    0.0   \n",
       "116897                    8.0                    28.0   8.00  1.50    0.0   \n",
       "36720                    24.0                     8.0  10.50  2.00    0.0   \n",
       "113560                    8.0                     8.0   6.50  1.00    0.0   \n",
       "120410                   76.0                    76.0   3.25  0.00    0.0   \n",
       "291580                   32.0                     8.0   9.75  1.00    0.0   \n",
       "242012                   56.0                    39.0  38.75  8.95    0.0   \n",
       "370364                   32.0                    76.0  43.75  8.75    0.0   \n",
       "206939                    8.0                     7.0  16.75  0.00    0.0   \n",
       "203713                    8.0                     7.0   9.50  2.00    0.0   \n",
       "\n",
       "        extras  trip_total payment_type                    company  \\\n",
       "304169     1.0       10.50         Cash   Northwest Management LLC   \n",
       "116897     0.0        9.50  Credit Card  Taxi Affiliation Services   \n",
       "36720      1.0       13.50  Credit Card  Taxi Affiliation Services   \n",
       "113560     0.0        7.50  Credit Card  Taxi Affiliation Services   \n",
       "120410     0.0        3.25         Cash    Choice Taxi Association   \n",
       "291580     0.0       10.75  Credit Card  Taxi Affiliation Services   \n",
       "242012     6.0       53.70  Credit Card  Taxi Affiliation Services   \n",
       "370364     0.0       52.50  Credit Card        Top Cab Affiliation   \n",
       "206939     1.0       17.75         Cash  Taxi Affiliation Services   \n",
       "203713     0.0       11.50  Credit Card   Northwest Management LLC   \n",
       "\n",
       "        pickup_centroid_latitude  pickup_centroid_longitude  \\\n",
       "304169                 41.879255                 -87.642649   \n",
       "116897                 41.892042                 -87.631864   \n",
       "36720                  41.901207                 -87.676356   \n",
       "113560                 41.900221                 -87.629105   \n",
       "120410                 41.980264                 -87.913625   \n",
       "291580                 41.880994                 -87.632746   \n",
       "242012                 41.792592                 -87.769615   \n",
       "370364                 41.880994                 -87.632746   \n",
       "206939                 41.892508                 -87.626215   \n",
       "203713                 41.899602                 -87.633308   \n",
       "\n",
       "                                 pickup_centroid_location  \\\n",
       "304169  {'type': 'Point', 'coordinates': [-87.64264899...   \n",
       "116897  {'type': 'Point', 'coordinates': [-87.63186394...   \n",
       "36720   {'type': 'Point', 'coordinates': [-87.67635598...   \n",
       "113560  {'type': 'Point', 'coordinates': [-87.62910518...   \n",
       "120410  {'type': 'Point', 'coordinates': [-87.91362459...   \n",
       "291580  {'type': 'Point', 'coordinates': [-87.63274648...   \n",
       "242012  {'type': 'Point', 'coordinates': [-87.76961545...   \n",
       "370364  {'type': 'Point', 'coordinates': [-87.63274648...   \n",
       "206939  {'type': 'Point', 'coordinates': [-87.62621490...   \n",
       "203713  {'type': 'Point', 'coordinates': [-87.63330803...   \n",
       "\n",
       "        dropoff_centroid_latitude  dropoff_centroid_longitude  \\\n",
       "304169                  41.895033                  -87.619711   \n",
       "116897                  41.879255                  -87.642649   \n",
       "36720                   41.899602                  -87.633308   \n",
       "113560                  41.893216                  -87.637844   \n",
       "120410                  41.980264                  -87.913625   \n",
       "291580                  41.907520                  -87.626659   \n",
       "242012                  41.808916                  -87.596183   \n",
       "370364                  41.979071                  -87.903040   \n",
       "206939                  41.929273                  -87.673807   \n",
       "203713                  41.922686                  -87.649489   \n",
       "\n",
       "                                dropoff_centroid_location  \n",
       "304169  {'type': 'Point', 'coordinates': [-87.61971067...  \n",
       "116897  {'type': 'Point', 'coordinates': [-87.64264899...  \n",
       "36720   {'type': 'Point', 'coordinates': [-87.63330803...  \n",
       "113560  {'type': 'Point', 'coordinates': [-87.63784420...  \n",
       "120410  {'type': 'Point', 'coordinates': [-87.91362459...  \n",
       "291580  {'type': 'Point', 'coordinates': [-87.62665890...  \n",
       "242012  {'type': 'Point', 'coordinates': [-87.59618334...  \n",
       "370364  {'type': 'Point', 'coordinates': [-87.90303966...  \n",
       "206939  {'type': 'Point', 'coordinates': [-87.67380723...  \n",
       "203713  {'type': 'Point', 'coordinates': [-87.64948872...  "
      ]
     },
     "execution_count": 18,
     "metadata": {},
     "output_type": "execute_result"
    }
   ],
   "source": [
    "# show 5 random rows \n",
    "df.sample(10)"
   ]
  },
  {
   "cell_type": "markdown",
   "metadata": {},
   "source": [
    "This first quick exploration also showcases some missing values (i.e. `NaNs`). However, before handling these we should first take care of:\n",
    "\n",
    "1. duplicates;\n",
    "2. outliers (e.g. oddly short trips in terms of time and/or distance);\n",
    "3. feature selection. "
   ]
  },
  {
   "cell_type": "markdown",
   "metadata": {},
   "source": [
    "#### Duplicates"
   ]
  },
  {
   "cell_type": "markdown",
   "metadata": {},
   "source": [
    "According to Chicago's City Hall, two, or more, trips are duplicates only if they have identical values for ([source](https://digital.chicago.gov/index.php/chicago-taxi-data-released/)):\n",
    "\n",
    "+ Taxi ID (`trip_id`): A unique identifier for the taxi;\n",
    "+ Trip Start Timestamps (`trip_start_timestamp`): When the trip started, rounded to the nearest 15 minutes;\n",
    "+ Trip End Timestamps (`trip_start_timestamp`): When the trip ended, rounded to the nearest 15 minutes\n",
    "+ Trip Seconds (`trip_seconds`): Time of the trip in seconds;\n",
    "+ Trip Miles (`trip_miles`): Distance of the trip in miles;\n",
    "+ Pickup Census Tracts (`pickup_census_tract`): The Census Tract where the trip began;\n",
    "+ Dropoff Census Tracts (`dropoff_census_tract`): The Census Tract where the trip ended;\n",
    "+ Pickup  Community Areas (`pickup_community_area`): The Community Area where the trip began;\n",
    "+ Dropoff Community Areas (`dropoff_community_area`): The Community Area where the trip ended."
   ]
  },
  {
   "cell_type": "markdown",
   "metadata": {},
   "source": [
    "To this end, we will employ the `drop_duplicates()` function. "
   ]
  },
  {
   "cell_type": "code",
   "execution_count": 19,
   "metadata": {
    "ExecuteTime": {
     "end_time": "2020-07-27T10:00:06.964215Z",
     "start_time": "2020-07-27T10:00:06.752169Z"
    }
   },
   "outputs": [],
   "source": [
    "# define the subset of columns in which to look for duplicates\n",
    "duplicate_col_list = ['taxi_id', 'trip_start_timestamp', 'trip_end_timestamp', \n",
    "                      'trip_seconds', 'trip_miles', 'pickup_census_tract',\n",
    "                      'dropoff_census_tract', 'pickup_community_area', 'dropoff_community_area']"
   ]
  },
  {
   "cell_type": "code",
   "execution_count": 20,
   "metadata": {
    "ExecuteTime": {
     "end_time": "2020-07-27T10:00:10.567727Z",
     "start_time": "2020-07-27T10:00:09.611199Z"
    }
   },
   "outputs": [],
   "source": [
    "# drop the duplicates and modify the existing dataframe\n",
    "df.drop_duplicates(subset=duplicate_col_list, \n",
    "                   inplace=True)"
   ]
  },
  {
   "cell_type": "code",
   "execution_count": 21,
   "metadata": {
    "ExecuteTime": {
     "end_time": "2020-07-27T10:00:13.861405Z",
     "start_time": "2020-07-27T10:00:13.665395Z"
    }
   },
   "outputs": [
    {
     "name": "stdout",
     "output_type": "stream",
     "text": [
      "542 duplicates have been removed\n",
      "The new dataframe has 399458 rows\n"
     ]
    }
   ],
   "source": [
    "# print the number of deleted duplicates\n",
    "print(\"{} duplicates have been removed\".format(row_number-df.shape[0]))\n",
    "\n",
    "# print the lenght of the new daatframe\n",
    "print(\"The new dataframe has {} rows\".format(df.shape[0]))"
   ]
  },
  {
   "cell_type": "markdown",
   "metadata": {},
   "source": [
    "Now that duplicates have been detected and removed, we can move to the outliers treatment."
   ]
  },
  {
   "cell_type": "markdown",
   "metadata": {},
   "source": [
    "#### Outliers"
   ]
  },
  {
   "cell_type": "markdown",
   "metadata": {},
   "source": [
    "Chicago's City Hall already manipulates the data in order to exclude implausible values. As per their website:\n",
    "\n",
    "+ Trip times less than zero or greater than 86,400 seconds are removed;\n",
    "+ Trip lengths less than zero or greater than 3,500 miles are removed.\n",
    "\n",
    "The City Hall makes a compelling case about the upper limits. Further, by using a density-based clustering techniques, rare long-distance trips will be treated as outliers by the algorithm and thereby easily identified. "
   ]
  },
  {
   "cell_type": "markdown",
   "metadata": {},
   "source": [
    "The lower bound, though, appears to be somehow neglected. The City Hall only canceled negative time values. But what to do with oddly short trips?\n",
    "\n",
    "A trip of, say, 20 seconds would in fact be rather \"suspicious\" most of the times (we could speculate, as an example, a client arguing with the cab driver and asking to be dropped off immediately). The same goes for rides of, say, 0.1 miles (or 160 meters). "
   ]
  },
  {
   "cell_type": "markdown",
   "metadata": {},
   "source": [
    "To obtain a better idea, let's look at a very robust statistic, the ***median***."
   ]
  },
  {
   "cell_type": "code",
   "execution_count": 22,
   "metadata": {
    "ExecuteTime": {
     "end_time": "2020-07-27T10:00:16.983095Z",
     "start_time": "2020-07-27T10:00:16.743302Z"
    }
   },
   "outputs": [
    {
     "data": {
      "text/plain": [
       "trip_seconds    540.0\n",
       "trip_miles        0.8\n",
       "dtype: float64"
      ]
     },
     "execution_count": 22,
     "metadata": {},
     "output_type": "execute_result"
    }
   ],
   "source": [
    "# find the median of the features\n",
    "df[['trip_seconds', 'trip_miles']].median()"
   ]
  },
  {
   "cell_type": "markdown",
   "metadata": {},
   "source": [
    "The median reveals that the average trip time is 9 minutes and length of about 0.8 miles (or 1.3 kilometers)."
   ]
  },
  {
   "cell_type": "markdown",
   "metadata": {},
   "source": [
    "In this vein, taxi rides with either or both of the following will be discarded:\n",
    "\n",
    "+ Trip times less than 60 seconds;\n",
    "+ Trip lengths less than 0.1 miles (160 meters).\n",
    "\n",
    "Obviously, these are arbitrary choices and as such should be considered."
   ]
  },
  {
   "cell_type": "code",
   "execution_count": 23,
   "metadata": {
    "ExecuteTime": {
     "end_time": "2020-07-27T10:00:20.143961Z",
     "start_time": "2020-07-27T10:00:19.830360Z"
    }
   },
   "outputs": [],
   "source": [
    "# modify the dataframe by keeping only trips equal or longer than 60 seconds\n",
    "df = df.loc[df['trip_seconds'] >= 60]"
   ]
  },
  {
   "cell_type": "code",
   "execution_count": 24,
   "metadata": {
    "ExecuteTime": {
     "end_time": "2020-07-27T10:00:23.515799Z",
     "start_time": "2020-07-27T10:00:23.145473Z"
    }
   },
   "outputs": [],
   "source": [
    "# modify the dataframe by keeping only trips equal or longer than 0.1 miles\n",
    "df = df.loc[df['trip_miles'] >= 0.1]"
   ]
  },
  {
   "cell_type": "code",
   "execution_count": 25,
   "metadata": {
    "ExecuteTime": {
     "end_time": "2020-07-27T10:00:26.890382Z",
     "start_time": "2020-07-27T10:00:26.690067Z"
    }
   },
   "outputs": [
    {
     "name": "stdout",
     "output_type": "stream",
     "text": [
      "The new dataframe has 283694 rows\n"
     ]
    }
   ],
   "source": [
    "# print the lenght of the new daatframe\n",
    "print(\"The new dataframe has {} rows\".format(df.shape[0]))"
   ]
  },
  {
   "cell_type": "markdown",
   "metadata": {},
   "source": [
    "#### Feature Selection"
   ]
  },
  {
   "cell_type": "markdown",
   "metadata": {},
   "source": [
    "To carry out the clustering task, we will only need two features, namely:\n",
    "\n",
    "+ `dropoff_centroid_latitude`: The **latitude** of the center of the dropoff census tract or the community area if the census tract has been hidden for privacy;\n",
    "\n",
    "+ `dropoff_centroid_longitude`. The **longitude** of the center of the dropoff census tract or the community area if the census tract has been hidden for privacy.\n",
    "\n",
    "A copy of the original dataframe is then created, containing only the above-mentioned columns. "
   ]
  },
  {
   "cell_type": "code",
   "execution_count": 26,
   "metadata": {
    "ExecuteTime": {
     "end_time": "2020-07-27T10:00:30.327526Z",
     "start_time": "2020-07-27T10:00:30.099249Z"
    }
   },
   "outputs": [
    {
     "data": {
      "text/html": [
       "<div>\n",
       "<style scoped>\n",
       "    .dataframe tbody tr th:only-of-type {\n",
       "        vertical-align: middle;\n",
       "    }\n",
       "\n",
       "    .dataframe tbody tr th {\n",
       "        vertical-align: top;\n",
       "    }\n",
       "\n",
       "    .dataframe thead th {\n",
       "        text-align: right;\n",
       "    }\n",
       "</style>\n",
       "<table border=\"1\" class=\"dataframe\">\n",
       "  <thead>\n",
       "    <tr style=\"text-align: right;\">\n",
       "      <th></th>\n",
       "      <th>dropoff_centroid_latitude</th>\n",
       "      <th>dropoff_centroid_longitude</th>\n",
       "    </tr>\n",
       "  </thead>\n",
       "  <tbody>\n",
       "    <tr>\n",
       "      <th>0</th>\n",
       "      <td>41.880994</td>\n",
       "      <td>-87.632746</td>\n",
       "    </tr>\n",
       "    <tr>\n",
       "      <th>2</th>\n",
       "      <td>41.880994</td>\n",
       "      <td>-87.632746</td>\n",
       "    </tr>\n",
       "    <tr>\n",
       "      <th>4</th>\n",
       "      <td>41.914616</td>\n",
       "      <td>-87.631717</td>\n",
       "    </tr>\n",
       "    <tr>\n",
       "      <th>5</th>\n",
       "      <td>41.907492</td>\n",
       "      <td>-87.635760</td>\n",
       "    </tr>\n",
       "    <tr>\n",
       "      <th>6</th>\n",
       "      <td>42.001571</td>\n",
       "      <td>-87.695013</td>\n",
       "    </tr>\n",
       "    <tr>\n",
       "      <th>...</th>\n",
       "      <td>...</td>\n",
       "      <td>...</td>\n",
       "    </tr>\n",
       "    <tr>\n",
       "      <th>399993</th>\n",
       "      <td>41.878866</td>\n",
       "      <td>-87.625192</td>\n",
       "    </tr>\n",
       "    <tr>\n",
       "      <th>399994</th>\n",
       "      <td>41.909496</td>\n",
       "      <td>-87.630964</td>\n",
       "    </tr>\n",
       "    <tr>\n",
       "      <th>399995</th>\n",
       "      <td>41.890922</td>\n",
       "      <td>-87.618868</td>\n",
       "    </tr>\n",
       "    <tr>\n",
       "      <th>399998</th>\n",
       "      <td>41.901207</td>\n",
       "      <td>-87.676356</td>\n",
       "    </tr>\n",
       "    <tr>\n",
       "      <th>399999</th>\n",
       "      <td>41.895033</td>\n",
       "      <td>-87.619711</td>\n",
       "    </tr>\n",
       "  </tbody>\n",
       "</table>\n",
       "<p>283694 rows × 2 columns</p>\n",
       "</div>"
      ],
      "text/plain": [
       "        dropoff_centroid_latitude  dropoff_centroid_longitude\n",
       "0                       41.880994                  -87.632746\n",
       "2                       41.880994                  -87.632746\n",
       "4                       41.914616                  -87.631717\n",
       "5                       41.907492                  -87.635760\n",
       "6                       42.001571                  -87.695013\n",
       "...                           ...                         ...\n",
       "399993                  41.878866                  -87.625192\n",
       "399994                  41.909496                  -87.630964\n",
       "399995                  41.890922                  -87.618868\n",
       "399998                  41.901207                  -87.676356\n",
       "399999                  41.895033                  -87.619711\n",
       "\n",
       "[283694 rows x 2 columns]"
      ]
     },
     "execution_count": 26,
     "metadata": {},
     "output_type": "execute_result"
    }
   ],
   "source": [
    "# create a copy of the original dataframe containing only the below columns\n",
    "df_1 = df[['dropoff_centroid_latitude', 'dropoff_centroid_longitude']].copy()\n",
    "\n",
    "df_1"
   ]
  },
  {
   "cell_type": "markdown",
   "metadata": {},
   "source": [
    "#### Missing Values"
   ]
  },
  {
   "cell_type": "markdown",
   "metadata": {},
   "source": [
    "We are now ready to handle missing values. Dropping missing values is sub-optimal because removing observations, translates into losing information. And the fact that the value was missing may be informative in itself. However, in the clustering case, we cannot simply imput a value - like the mean - for the missing values, or build a column with an indicator variable flagging the original lack, and let the algorithm figure this out.\n",
    "\n",
    "Further, in this dataset there is a specific reason behind missing values, due to privacy. In fact:\n",
    "> Since some Census Tracts have relatively infrequent taxi trips, we show the Census Tracts of a trip only if both the starting and ending Census Tracts had at least three trips in the relevant 15-minute time period. \n",
    "Because of this rule, about 1/4 of Census Tracts that would otherwise be shown are blank. (Others are blank because of missing data or falling outside Chicago.)\n",
    "\n",
    "Therefore, we will opt for dropping the observations lacking `latitude` or `longitude`. Performing this exercise on the whole dataset would have been possible, of course. But given that our task at hand only requires two features, it would have entailed dropping observations due to `NaNs` in columns other than the required ones, thereby producing an unnecessary data loss. "
   ]
  },
  {
   "cell_type": "code",
   "execution_count": 27,
   "metadata": {
    "ExecuteTime": {
     "end_time": "2020-07-27T10:00:33.783965Z",
     "start_time": "2020-07-27T10:00:33.583274Z"
    }
   },
   "outputs": [
    {
     "data": {
      "text/plain": [
       "dropoff_centroid_latitude     5797\n",
       "dropoff_centroid_longitude    5797\n",
       "dtype: int64"
      ]
     },
     "execution_count": 27,
     "metadata": {},
     "output_type": "execute_result"
    }
   ],
   "source": [
    "# find the number of NaNs, if any\n",
    "df_1.isna().sum()"
   ]
  },
  {
   "cell_type": "markdown",
   "metadata": {},
   "source": [
    "Another interesting aspect we should investigate is whether the missing values are actually coupled."
   ]
  },
  {
   "cell_type": "code",
   "execution_count": 28,
   "metadata": {
    "ExecuteTime": {
     "end_time": "2020-07-27T10:00:37.121441Z",
     "start_time": "2020-07-27T10:00:36.905804Z"
    },
    "scrolled": true
   },
   "outputs": [
    {
     "data": {
      "text/plain": [
       "5797"
      ]
     },
     "execution_count": 28,
     "metadata": {},
     "output_type": "execute_result"
    }
   ],
   "source": [
    "len(df_1[(df_1['dropoff_centroid_latitude'].isna()) & (df_1['dropoff_centroid_longitude'].isna())])"
   ]
  },
  {
   "cell_type": "markdown",
   "metadata": {},
   "source": [
    "In fact, we obtain the same number of observations as before, even when we specifically declare both conditions simultaneously."
   ]
  },
  {
   "cell_type": "markdown",
   "metadata": {},
   "source": [
    "We now proceed with the exclusions of `NaNs`."
   ]
  },
  {
   "cell_type": "code",
   "execution_count": 29,
   "metadata": {
    "ExecuteTime": {
     "end_time": "2020-07-27T10:00:40.571131Z",
     "start_time": "2020-07-27T10:00:40.348079Z"
    }
   },
   "outputs": [],
   "source": [
    "# drop the rows with NaNs and modifies the df1\n",
    "df_1.dropna(inplace=True)"
   ]
  },
  {
   "cell_type": "code",
   "execution_count": 30,
   "metadata": {
    "ExecuteTime": {
     "end_time": "2020-07-27T10:00:43.823564Z",
     "start_time": "2020-07-27T10:00:43.630361Z"
    }
   },
   "outputs": [
    {
     "name": "stdout",
     "output_type": "stream",
     "text": [
      "The new dataframe has 277897 rows\n"
     ]
    }
   ],
   "source": [
    "# print the lenght of the new daatframe\n",
    "print(\"The new dataframe has {} rows\".format(df_1.shape[0]))"
   ]
  },
  {
   "cell_type": "markdown",
   "metadata": {},
   "source": [
    "## Clustering"
   ]
  },
  {
   "cell_type": "markdown",
   "metadata": {},
   "source": [
    "### `DBSCAN` in short"
   ]
  },
  {
   "cell_type": "markdown",
   "metadata": {},
   "source": [
    "`DBSCAN` is able to find arbitrary shaped clusters and clusters with noise (i.e. outliers). The core concept bolstering the algorithm is that a point belongs to a certain cluster if it is arbitrarily close to `x` points from that specific cluster."
   ]
  },
  {
   "cell_type": "markdown",
   "metadata": {},
   "source": [
    "In order to run `DBSCAN`, two important parameters need to be adjusted:\n",
    "\n",
    "- `epsilon`:\n",
    "    - the distance that specifies the neighborhoods. Two points are considered to be neighbors if the distance between them are less than or equal to it;\n",
    "- `MinPoints`:\n",
    "    - minimum number of data points to define a cluster.\n",
    "\n",
    "These are necessary to define the three different types of points contemplated by the algorithm:\n",
    "\n",
    "1. *Core points*:\n",
    "    - A point that has `MinPoints` around itself, within a radius of `epsilon`. These points are clustered together; \n",
    "2. *Border points*:\n",
    "    - A point that is in the range of a core point but has not `MinPoints` points around its `epsilon` range. Normally, border points are located at the edge of the clusters. \n",
    "3. *Outliers*:\n",
    "    - A point that is not in the range of a core point and thus is clustered alone."
   ]
  },
  {
   "cell_type": "markdown",
   "metadata": {},
   "source": [
    "Technically, the algorithm works as follows.\n",
    "\n",
    "1. A starting point is selected at random at its neighborhood area is determined by means of `epsilon`. If there are at least `MinPoints` within the neighborhood, the point is marked as *core* and a cluster formation starts. If not, the point is marked as an *outlier*. \n",
    "\n",
    "2. Once said cluster is created - say, cluster A - all the points within the neighborhood of the starting point become part of cluster A. If these new points also happen to be *core*, the points within their neighborhood are also aggregated to cluster A.\n",
    "Obviously, nothing prevents a point previously marked as *outlier* to be revisited, and thus become part of a cluster.\n",
    "\n",
    "3. This process continues until no other data points are within the neighborhood formed by `epsilon`. At this point, the algorithm will seek to form another cluster by selecting a not-yet-visited point and applying the above-mentioned procedure again.\n",
    "\n",
    "This process is finished when *all* points are visited."
   ]
  },
  {
   "cell_type": "markdown",
   "metadata": {},
   "source": [
    "The below picture ([source](https://medium.com/@elutins/dbscan-what-is-it-when-to-use-it-how-to-use-it-8bd506293818)) visually summarizes the difference between point types."
   ]
  },
  {
   "cell_type": "markdown",
   "metadata": {},
   "source": [
    "![](images/DBscan.jpg)"
   ]
  },
  {
   "cell_type": "markdown",
   "metadata": {},
   "source": [
    "### Parameter Setting"
   ]
  },
  {
   "cell_type": "markdown",
   "metadata": {
    "ExecuteTime": {
     "end_time": "2020-07-23T13:46:04.398460Z",
     "start_time": "2020-07-23T13:46:04.202736Z"
    }
   },
   "source": [
    "Let's now try to model our goal in terms of parameters. `DBSCAN` is a nice technique for geo-referenced clustering because the `epsilon` parameter has a physical meaning. In this case, we can think of it as the drop-off area we deem is forming a cluster. \n",
    "\n",
    "\n",
    "This [website](https://www.calcmaps.com/map-radius/) comes in very handy to this end. With this tool, one can know the radius of a circle anywhere on Google Maps by simply clicking on a single point and extending or moving the circle to change the radius on the Map. \n",
    "\n",
    "\n",
    "![](images/radius_finder.png)\n",
    "\n"
   ]
  },
  {
   "cell_type": "markdown",
   "metadata": {
    "ExecuteTime": {
     "end_time": "2020-07-23T13:46:04.398460Z",
     "start_time": "2020-07-23T13:46:04.202736Z"
    }
   },
   "source": [
    "The ***arbitrarily*** drawn circle has a radius of 0.48 miles.\n",
    "\n",
    "Further, considering that 1 degree latitude is $\\approx$ 69 miles, we can find our `epsilon`:\n",
    "\n",
    "$$ \\frac{0.48 \\ \\ miles/radius}{69 \\ \\ miles/degree} \\approx 0.007 $$ "
   ]
  },
  {
   "cell_type": "markdown",
   "metadata": {
    "ExecuteTime": {
     "end_time": "2020-07-23T13:46:04.398460Z",
     "start_time": "2020-07-23T13:46:04.202736Z"
    }
   },
   "source": [
    "Finally, we may ***arbitrarily*** set the value of `MinPoints` to 500, but nothing would impede us from using, say, 1000."
   ]
  },
  {
   "cell_type": "markdown",
   "metadata": {},
   "source": [
    "In sum, the above reasoning leads to us the realization that: \n",
    "\n",
    "> <p><span style=\"color:red\"><b>Clustering is Subjective!</b></span></p>\n",
    "\n",
    "It helps us to analyze and get insight about the data, but the final result heavily depends on the user's choices."
   ]
  },
  {
   "cell_type": "markdown",
   "metadata": {},
   "source": [
    "### Model Training"
   ]
  },
  {
   "cell_type": "markdown",
   "metadata": {},
   "source": [
    "One last step must be performed before running the algorithm, though. We need to convert our data into a format that is `DBSCAN`-friendly. To this end, we are required to convert the two columns in our `df_1` into an *numpy array*. "
   ]
  },
  {
   "cell_type": "code",
   "execution_count": 31,
   "metadata": {
    "ExecuteTime": {
     "end_time": "2020-07-27T10:00:46.997072Z",
     "start_time": "2020-07-27T10:00:46.800012Z"
    }
   },
   "outputs": [
    {
     "data": {
      "text/plain": [
       "array([[ 41.88099447, -87.63274649],\n",
       "       [ 41.88099447, -87.63274649],\n",
       "       [ 41.91461629, -87.63171737],\n",
       "       [ 41.90749193, -87.63576009],\n",
       "       [ 42.00157103, -87.69501259],\n",
       "       [ 41.90585777, -87.63086503],\n",
       "       [ 41.94651142, -87.80602   ],\n",
       "       [ 41.88528132, -87.6572332 ],\n",
       "       [ 41.9442266 , -87.65599818],\n",
       "       [ 41.89204214, -87.63186395]])"
      ]
     },
     "execution_count": 31,
     "metadata": {},
     "output_type": "execute_result"
    }
   ],
   "source": [
    "# create a numpy array, each comprising both lat and long for the same point\n",
    "lat_lon_points = df_1.to_numpy()\n",
    "\n",
    "# print the first 10 entries\n",
    "lat_lon_points[0:10]"
   ]
  },
  {
   "cell_type": "markdown",
   "metadata": {},
   "source": [
    "Now, the parameters we have defined in the above section will be inputted in our model."
   ]
  },
  {
   "cell_type": "code",
   "execution_count": 53,
   "metadata": {
    "ExecuteTime": {
     "end_time": "2020-07-27T12:10:43.828751Z",
     "start_time": "2020-07-27T12:10:43.679022Z"
    }
   },
   "outputs": [],
   "source": [
    "# create the clusters\n",
    "cluster_scanned = DBSCAN(eps=0.007, min_samples=1000)"
   ]
  },
  {
   "cell_type": "markdown",
   "metadata": {},
   "source": [
    "<div class=\"alert alert-block alert-success\">\n",
    "<b>Tip:</b> Run the below cell only if you are interested in trying the code out. Else, skip one cell and simply continue running the notebook from two cells below, thereby loading the corresponding saved model. \n",
    "</div>"
   ]
  },
  {
   "cell_type": "code",
   "execution_count": 54,
   "metadata": {
    "ExecuteTime": {
     "end_time": "2020-07-27T12:23:23.356068Z",
     "start_time": "2020-07-27T12:10:52.797989Z"
    },
    "scrolled": false
   },
   "outputs": [],
   "source": [
    "# SKIP IF NOT INTERESTED IN TRYING THE CODE OUT\n",
    "\n",
    "# allocate the drop-off points to each cluster\n",
    "cluster_predicted = cluster_scanned.fit_predict(lat_lon_points)"
   ]
  },
  {
   "cell_type": "code",
   "execution_count": 45,
   "metadata": {
    "ExecuteTime": {
     "end_time": "2020-07-27T10:14:44.905546Z",
     "start_time": "2020-07-27T10:14:44.744322Z"
    }
   },
   "outputs": [],
   "source": [
    "# set a variable with the filename to be saved/loaded \n",
    "filename = './data/cluster_predicted.sav'"
   ]
  },
  {
   "cell_type": "code",
   "execution_count": 46,
   "metadata": {
    "ExecuteTime": {
     "end_time": "2020-07-27T10:14:51.097086Z",
     "start_time": "2020-07-27T10:14:50.872996Z"
    }
   },
   "outputs": [],
   "source": [
    "# save the model to disk\n",
    "# pickle.dump(cluster_predicted, open(filename, 'wb'))"
   ]
  },
  {
   "cell_type": "code",
   "execution_count": 33,
   "metadata": {
    "ExecuteTime": {
     "end_time": "2020-07-24T19:56:12.958672Z",
     "start_time": "2020-07-24T19:56:12.655511Z"
    }
   },
   "outputs": [],
   "source": [
    "# load the model from disk\n",
    "cluster_predicted = pickle.load(open(filename, 'rb'))"
   ]
  },
  {
   "cell_type": "markdown",
   "metadata": {},
   "source": [
    "Now, we will allocate a label to each of the found clusters. A color will be **randomly** assigned too; thus, it should not surprise the fact that colors will almost surely be different every time the below cell is run.   \n",
    "\n",
    "Further, the color ***WHITE*** is allocated to `outliers`. To avoid that another cluster - or more - could have it assigned too, the maximum possible value for the <span style=\"color:blue\"><b>BLUE</b></span> is set to 200. In such a way, in the worst-case scenario the most \"similar\" color in terms of RGB would be a pale yellow. "
   ]
  },
  {
   "cell_type": "code",
   "execution_count": 55,
   "metadata": {
    "ExecuteTime": {
     "end_time": "2020-07-27T12:27:05.187625Z",
     "start_time": "2020-07-27T12:27:04.171398Z"
    }
   },
   "outputs": [
    {
     "name": "stdout",
     "output_type": "stream",
     "text": [
      "27 clusters have been identified\n"
     ]
    }
   ],
   "source": [
    "%matplotlib inline\n",
    "\n",
    "# find the unique number of clusters\n",
    "cluster_number = len(set(cluster_predicted))\n",
    "print(\"{} clusters have been identified\".format(cluster_number))\n",
    "\n",
    "cluster_label = [str(cluster_predicted[label]) for label in cluster_predicted]\n",
    "\n",
    "# create a tuple with RGB values for each cluster that was found\n",
    "color_dict = {i: (randint(0, 255), randint(0, 255), randint(0, 200))\n",
    "              for i in range(-1, cluster_number - 1)}\n",
    "\n",
    "# assign WHITE to the outliers\n",
    "color_dict[-1] = (255, 255, 255)\n",
    "\n",
    "# create a list assigning the repsective color to each point based on cluster\n",
    "cluster_color = [color_dict[i] for i in cluster_predicted]\n",
    "\n",
    "# cluster_number_full = [str(i) for i in cluster_predicted]"
   ]
  },
  {
   "cell_type": "markdown",
   "metadata": {},
   "source": [
    "To assess the goodness of the found clusters, then, we could plot our results on the map and compare them with the landmarks scraped from TripAdvisor."
   ]
  },
  {
   "cell_type": "markdown",
   "metadata": {},
   "source": [
    "Doing so, however, bears some drawbacks. Plotting about 200.000 points on the map is possible, of course, but would require a lot of computational power, thereby reducing the performance of our machine.\n",
    "\n",
    "To alleviate this computational burden, we can leverage a peculiarity of our dataset, namely privacy. In fact, as the exact location down to the street address could affect privacy, Chicago's city hall decided to provide location only at the Census Tract and Community Area levels ([source](https://digital.chicago.gov/index.php/chicago-taxi-data-released/))."
   ]
  },
  {
   "cell_type": "markdown",
   "metadata": {},
   "source": [
    "This implies that two trips ending within the same Census Tract but at different locations will actually present the same GPS coordinates. In other words, the number of drop-off points is at least not larger to the number of Census Tracts, and therefore, plotting only one drop-off will suffice to represent its. "
   ]
  },
  {
   "cell_type": "markdown",
   "metadata": {},
   "source": [
    "To create a list of unique drop-off points, first, we will combine each pair of GPS coordinates with its cluster label."
   ]
  },
  {
   "cell_type": "code",
   "execution_count": 56,
   "metadata": {
    "ExecuteTime": {
     "end_time": "2020-07-27T12:27:14.530643Z",
     "start_time": "2020-07-27T12:27:13.727691Z"
    }
   },
   "outputs": [
    {
     "data": {
      "text/plain": [
       "[(41.880994471, -87.632746489, 0),\n",
       " (41.880994471, -87.632746489, 0),\n",
       " (41.914616286, -87.631717366, 1),\n",
       " (41.90749193, -87.63576009, 1),\n",
       " (42.001571027, -87.695012589, -1),\n",
       " (41.905857769, -87.63086502700001, 1),\n",
       " (41.94651142, -87.80602000200001, -1),\n",
       " (41.88528132, -87.65723320000001, 2),\n",
       " (41.944226601, -87.655998182, 1),\n",
       " (41.892042136, -87.63186395, 1)]"
      ]
     },
     "execution_count": 56,
     "metadata": {},
     "output_type": "execute_result"
    }
   ],
   "source": [
    "# create a list containing tuples that merge latitutde, longitude and predicted cluster\n",
    "lat_lon_points_merged = [(lat_lon[0], lat_lon[1], clus)\n",
    "                         for lat_lon, clus in zip(lat_lon_points, cluster_predicted)]\n",
    "lat_lon_points_merged[0:10]"
   ]
  },
  {
   "cell_type": "code",
   "execution_count": 57,
   "metadata": {
    "ExecuteTime": {
     "end_time": "2020-07-27T12:27:23.398369Z",
     "start_time": "2020-07-27T12:27:23.198411Z"
    }
   },
   "outputs": [
    {
     "data": {
      "text/plain": [
       "277897"
      ]
     },
     "execution_count": 57,
     "metadata": {},
     "output_type": "execute_result"
    }
   ],
   "source": [
    "len(lat_lon_points_merged)"
   ]
  },
  {
   "cell_type": "markdown",
   "metadata": {},
   "source": [
    "Second, we will create a new list with only a unique entry per triplet: **(latitude, longitude, cluster label)**."
   ]
  },
  {
   "cell_type": "code",
   "execution_count": 58,
   "metadata": {
    "ExecuteTime": {
     "end_time": "2020-07-27T12:27:33.040680Z",
     "start_time": "2020-07-27T12:27:32.670676Z"
    }
   },
   "outputs": [
    {
     "data": {
      "text/plain": [
       "[(41.880994471, -87.632746489, 0),\n",
       " (41.914616286, -87.631717366, 1),\n",
       " (41.90749193, -87.63576009, 1),\n",
       " (42.001571027, -87.695012589, -1),\n",
       " (41.905857769, -87.63086502700001, 1),\n",
       " (41.94651142, -87.80602000200001, -1),\n",
       " (41.88528132, -87.65723320000001, 2),\n",
       " (41.944226601, -87.655998182, 1),\n",
       " (41.892042136, -87.63186395, 1),\n",
       " (41.891971508000005, -87.612945414, 1)]"
      ]
     },
     "execution_count": 58,
     "metadata": {},
     "output_type": "execute_result"
    }
   ],
   "source": [
    "# shrink the list to only contain unique tuples\n",
    "lat_lon_points_cleaned = list(dict.fromkeys(lat_lon_points_merged))\n",
    "lat_lon_points_cleaned[0:10]"
   ]
  },
  {
   "cell_type": "markdown",
   "metadata": {},
   "source": [
    "Our list of observations to plot has shrunk from roughly 200.000 to 372."
   ]
  },
  {
   "cell_type": "code",
   "execution_count": 59,
   "metadata": {
    "ExecuteTime": {
     "end_time": "2020-07-27T12:27:42.905956Z",
     "start_time": "2020-07-27T12:27:42.672077Z"
    }
   },
   "outputs": [
    {
     "data": {
      "text/plain": [
       "388"
      ]
     },
     "execution_count": 59,
     "metadata": {},
     "output_type": "execute_result"
    }
   ],
   "source": [
    "# print the number of unique entries\n",
    "len(lat_lon_points_cleaned)"
   ]
  },
  {
   "cell_type": "markdown",
   "metadata": {},
   "source": [
    "Third, we will retrieve the RGB combination that we created for each cluster. This is necessary to plot each cluster with the correct color. "
   ]
  },
  {
   "cell_type": "code",
   "execution_count": 60,
   "metadata": {
    "ExecuteTime": {
     "end_time": "2020-07-27T12:27:52.872795Z",
     "start_time": "2020-07-27T12:27:52.698908Z"
    }
   },
   "outputs": [
    {
     "data": {
      "text/plain": [
       "[(73, 169, 45),\n",
       " (32, 133, 166),\n",
       " (32, 133, 166),\n",
       " (255, 255, 255),\n",
       " (32, 133, 166),\n",
       " (255, 255, 255),\n",
       " (22, 181, 152),\n",
       " (32, 133, 166),\n",
       " (32, 133, 166),\n",
       " (32, 133, 166)]"
      ]
     },
     "execution_count": 60,
     "metadata": {},
     "output_type": "execute_result"
    }
   ],
   "source": [
    "# create a list with the color palette for each unique coordinate pair\n",
    "cluster_color_unique = [color_dict[lat_lon_points_cleaned[i][2]]\n",
    "                        for i in range(0, len(lat_lon_points_cleaned))]\n",
    "cluster_color_unique[0:10]"
   ]
  },
  {
   "cell_type": "code",
   "execution_count": 61,
   "metadata": {
    "ExecuteTime": {
     "end_time": "2020-07-27T12:28:05.945575Z",
     "start_time": "2020-07-27T12:28:05.745059Z"
    }
   },
   "outputs": [
    {
     "data": {
      "text/plain": [
       "388"
      ]
     },
     "execution_count": 61,
     "metadata": {},
     "output_type": "execute_result"
    }
   ],
   "source": [
    "len(cluster_color_unique)"
   ]
  },
  {
   "cell_type": "markdown",
   "metadata": {},
   "source": [
    "Fourth and last, we will create again a tuple containing GPS coordinates, but ***without*** the cluster label."
   ]
  },
  {
   "cell_type": "code",
   "execution_count": 62,
   "metadata": {
    "ExecuteTime": {
     "end_time": "2020-07-27T12:28:19.248175Z",
     "start_time": "2020-07-27T12:28:18.828010Z"
    }
   },
   "outputs": [],
   "source": [
    "# create a new tuple which excludes the predicted cluster\n",
    "lat_lon_points_unique = [(lat_lon_points_cleaned[i][0], lat_lon_points_cleaned[i][1])\n",
    "                         for i in range(0, len(lat_lon_points_cleaned))]"
   ]
  },
  {
   "cell_type": "markdown",
   "metadata": {},
   "source": [
    "### Model Evaluation"
   ]
  },
  {
   "cell_type": "markdown",
   "metadata": {},
   "source": [
    "<div class=\"alert alert-block alert-success\">\n",
    "<b>Tip:</b> Run the code in this section only if you are interested in trying the code out. Else, its results are loaded as pictures. \n",
    "</div>"
   ]
  },
  {
   "cell_type": "markdown",
   "metadata": {},
   "source": [
    "After the whole preparation, let's now plot our clusters together with the TripAdvisor's landamarks."
   ]
  },
  {
   "cell_type": "code",
   "execution_count": 43,
   "metadata": {
    "ExecuteTime": {
     "end_time": "2020-07-27T10:14:26.480902Z",
     "start_time": "2020-07-27T10:14:26.209775Z"
    }
   },
   "outputs": [],
   "source": [
    "def cluster_plotter(core_only=False):\n",
    "    \"\"\"\n",
    "    Function that plots points of interests and predicted clusters on Chicago's Google Map.abs\n",
    "\n",
    "    Parameters:\n",
    "    core_only (bool): whether to plot all points or only core ones (default False).\n",
    "\n",
    "    \"\"\"\n",
    "\n",
    "    # create the map object\n",
    "    map_cluster = gmaps.figure(map_type='ROADMAP', layout=figure_layout,\n",
    "                               zoom_level=11, center=(41.834275, -87.691385))\n",
    "\n",
    "    # generate the marker layer maps\n",
    "    marker_layer = gmaps.marker_layer(\n",
    "        points_of_interest_locations, info_box_content=points_of_interest_info)\n",
    "\n",
    "    if core_only == False:\n",
    "\n",
    "        # create the layer of ALL points to add to the map\n",
    "        dropoff_layer = gmaps.symbol_layer(locations=lat_lon_points_unique, fill_color=cluster_color_unique,\n",
    "                                           stroke_color=cluster_color_unique, scale=4)\n",
    "    elif core_only == True:\n",
    "\n",
    "        # create the layer of ONLY CORE points to add to the map\n",
    "        dropoff_layer = gmaps.symbol_layer(locations=lat_lon_points_core_unique, fill_color=cluster_color_core_unique,\n",
    "                                           stroke_color=cluster_color_core_unique, scale=4)\n",
    "\n",
    "    # add the layer with PoI on the map\n",
    "    map_cluster.add_layer(marker_layer)\n",
    "\n",
    "    # add the layer with dropoffs on the map\n",
    "    map_cluster.add_layer(dropoff_layer)\n",
    "\n",
    "    # plot the map\n",
    "    return map_cluster"
   ]
  },
  {
   "cell_type": "code",
   "execution_count": 64,
   "metadata": {
    "ExecuteTime": {
     "end_time": "2020-07-27T12:29:15.179999Z",
     "start_time": "2020-07-27T12:29:15.021265Z"
    }
   },
   "outputs": [],
   "source": [
    "# plot all points on the map\n",
    "cluster_plotter(core_only=False)"
   ]
  },
  {
   "cell_type": "markdown",
   "metadata": {},
   "source": [
    "![](images/cluster_500.jpg)"
   ]
  },
  {
   "cell_type": "markdown",
   "metadata": {},
   "source": [
    "The map is rather crowded and honestly a bit confusing. The `outliers` - colored in ***white*** - are dominating the map points scattered all over the map."
   ]
  },
  {
   "cell_type": "markdown",
   "metadata": {},
   "source": [
    "A solution is to identify the so-called `core` points and plot them alone."
   ]
  },
  {
   "cell_type": "markdown",
   "metadata": {},
   "source": [
    "<div class=\"alert alert-block alert-danger\">\n",
    "<b>Attention:</b> Run the below cell only if you have performed `fit_predict()`. Else, skip one cell and simply continue running the notebook, thereby loading the saved array. \n",
    "</div>"
   ]
  },
  {
   "cell_type": "code",
   "execution_count": 48,
   "metadata": {
    "ExecuteTime": {
     "end_time": "2020-07-27T10:19:04.127347Z",
     "start_time": "2020-07-27T10:19:03.959636Z"
    }
   },
   "outputs": [],
   "source": [
    "# RUN ONLY IF TRYING THE CODE OUT\n",
    "# find the index of the core points, thus removing outliers\n",
    "cluster_core_idx = cluster_scanned.core_sample_indices_\n",
    "\n",
    "# save the core index list as .txt\n",
    "with open(\"./data/core_points.txt\", \"wb\") as fp:\n",
    "    pickle.dump(cluster_core_idx, fp)"
   ]
  },
  {
   "cell_type": "code",
   "execution_count": 49,
   "metadata": {
    "ExecuteTime": {
     "end_time": "2020-07-27T10:19:11.303184Z",
     "start_time": "2020-07-27T10:19:11.123831Z"
    }
   },
   "outputs": [],
   "source": [
    "# load the core index list\n",
    "with open(\"./data/core_points.txt\", \"rb\") as fp:\n",
    "    cluster_core_idx = pickle.load(fp)"
   ]
  },
  {
   "cell_type": "code",
   "execution_count": 50,
   "metadata": {
    "ExecuteTime": {
     "end_time": "2020-07-27T10:19:17.266613Z",
     "start_time": "2020-07-27T10:19:17.068072Z"
    }
   },
   "outputs": [
    {
     "name": "stdout",
     "output_type": "stream",
     "text": [
      "There are 266080 core points\n"
     ]
    }
   ],
   "source": [
    "print(\"There are {} core points\".format(len(cluster_core_idx)))"
   ]
  },
  {
   "cell_type": "markdown",
   "metadata": {},
   "source": [
    "In a similar vein of what we have done for the full points, we will now follow the same ideas, although quicker since the data has already been processed."
   ]
  },
  {
   "cell_type": "code",
   "execution_count": 51,
   "metadata": {
    "ExecuteTime": {
     "end_time": "2020-07-27T10:19:23.225384Z",
     "start_time": "2020-07-27T10:19:23.053203Z"
    }
   },
   "outputs": [],
   "source": [
    "# extract the colors for each CORE point\n",
    "cluster_color_core_unique = [color_dict[lat_lon_points_cleaned[i][2]] for i in range(\n",
    "    0, len(lat_lon_points_cleaned)) if lat_lon_points_cleaned[i][2] != -1]\n",
    "\n",
    "# create a list of tuples with GPS pairs of CORE points\n",
    "lat_lon_points_core_unique = [(lat_lon_points_cleaned[i][0], lat_lon_points_cleaned[i][1])for i in range(\n",
    "    0, len(lat_lon_points_cleaned)) if lat_lon_points_cleaned[i][2] != -1]"
   ]
  },
  {
   "cell_type": "code",
   "execution_count": 52,
   "metadata": {
    "ExecuteTime": {
     "end_time": "2020-07-27T10:19:30.386077Z",
     "start_time": "2020-07-27T10:19:29.226722Z"
    },
    "scrolled": false
   },
   "outputs": [
    {
     "data": {
      "application/vnd.jupyter.widget-view+json": {
       "model_id": "aec709f52f564cb4968f6dc707c4315b",
       "version_major": 2,
       "version_minor": 0
      },
      "text/plain": [
       "Figure(layout=FigureLayout(border='1px solid black', height='800px', padding='1px', width='1200px'))"
      ]
     },
     "metadata": {},
     "output_type": "display_data"
    }
   ],
   "source": [
    "# plot the onyl the CORE points on the map\n",
    "cluster_plotter(core_only=True)"
   ]
  },
  {
   "cell_type": "markdown",
   "metadata": {},
   "source": [
    "![](images/cluster_500_core_only.jpg)"
   ]
  },
  {
   "cell_type": "markdown",
   "metadata": {},
   "source": [
    "Results appears encouraging. Considering our evaluation metric, there is a decent visual match between clusters and points of interests."
   ]
  },
  {
   "cell_type": "markdown",
   "metadata": {},
   "source": [
    "![](images/cluster_500_core_only_south.jpg)"
   ]
  },
  {
   "cell_type": "markdown",
   "metadata": {},
   "source": [
    "Further, we extend our analysis to clusters that do not lie nearby points of interests."
   ]
  },
  {
   "cell_type": "markdown",
   "metadata": {},
   "source": [
    "For instance, it can be noted how the algorithm finds some clusters around the two major airports serving Chicago, namely *O'Hare International Airport* (top) and *Chicago Midway International Airport* (bottom)."
   ]
  },
  {
   "cell_type": "markdown",
   "metadata": {},
   "source": [
    "![](images/cluster_500_core_only_airports.jpg)"
   ]
  },
  {
   "cell_type": "markdown",
   "metadata": {},
   "source": [
    "The algorithm also correctly finds some clusters in the surrounding of natural points of interests, like beaches."
   ]
  },
  {
   "cell_type": "markdown",
   "metadata": {},
   "source": [
    "![](images/cluster_500_core_only_beaches.jpg)"
   ]
  },
  {
   "cell_type": "markdown",
   "metadata": {},
   "source": [
    "Let's consider *Kathy Osterman beach. Despite being a truthful point of interest according to TripAdvisor, it has not been plotted as landmark given that its category \"Beaches\" was excluded from the parser function `landmarks_dict()`"
   ]
  },
  {
   "cell_type": "markdown",
   "metadata": {},
   "source": [
    "![](images/kathy_beach.png)"
   ]
  },
  {
   "cell_type": "markdown",
   "metadata": {},
   "source": [
    "However, these results also highlight the major limitations of `DBSCAN`. While it is great at separating high density clusters from low density clusters, DBSCAN struggles with clusters of similar density. "
   ]
  },
  {
   "cell_type": "markdown",
   "metadata": {},
   "source": [
    "The below picture summarizes it well. Observing at the spread of the <span style=\"color:silver\"><b>silver</b></span> cluster, we could speculate that perhaps the algorithm has indeed encountered some difficulties in finding"
   ]
  },
  {
   "cell_type": "markdown",
   "metadata": {},
   "source": [
    "![](images/cluster_500_core_only_limitations.jpg)"
   ]
  },
  {
   "cell_type": "markdown",
   "metadata": {},
   "source": [
    "## Conclusions"
   ]
  },
  {
   "cell_type": "markdown",
   "metadata": {},
   "source": [
    "In sum, the algorithm seems to perform well, overall. Despite the problem encountered   "
   ]
  }
 ],
 "metadata": {
  "kernelspec": {
   "display_name": "Python 3",
   "language": "python",
   "name": "python3"
  },
  "language_info": {
   "codemirror_mode": {
    "name": "ipython",
    "version": 3
   },
   "file_extension": ".py",
   "mimetype": "text/x-python",
   "name": "python",
   "nbconvert_exporter": "python",
   "pygments_lexer": "ipython3",
   "version": "3.7.4"
  },
  "toc": {
   "base_numbering": 1,
   "nav_menu": {},
   "number_sections": true,
   "sideBar": true,
   "skip_h1_title": true,
   "title_cell": "Table of Contents",
   "title_sidebar": "Contents",
   "toc_cell": true,
   "toc_position": {
    "height": "calc(100% - 180px)",
    "left": "10px",
    "top": "150px",
    "width": "409.6px"
   },
   "toc_section_display": true,
   "toc_window_display": true
  },
  "varInspector": {
   "cols": {
    "lenName": 16,
    "lenType": 16,
    "lenVar": 40
   },
   "kernels_config": {
    "python": {
     "delete_cmd_postfix": "",
     "delete_cmd_prefix": "del ",
     "library": "var_list.py",
     "varRefreshCmd": "print(var_dic_list())"
    },
    "r": {
     "delete_cmd_postfix": ") ",
     "delete_cmd_prefix": "rm(",
     "library": "var_list.r",
     "varRefreshCmd": "cat(var_dic_list()) "
    }
   },
   "position": {
    "height": "798.367px",
    "left": "1088px",
    "right": "20px",
    "top": "136px",
    "width": "800px"
   },
   "types_to_exclude": [
    "module",
    "function",
    "builtin_function_or_method",
    "instance",
    "_Feature"
   ],
   "window_display": false
  }
 },
 "nbformat": 4,
 "nbformat_minor": 4
}
